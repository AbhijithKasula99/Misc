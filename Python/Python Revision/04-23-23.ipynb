{
 "cells": [
  {
   "cell_type": "markdown",
   "id": "2b050413-67cb-4f01-a1ee-8114d880b5e2",
   "metadata": {},
   "source": [
    "# Python From Scratch"
   ]
  },
  {
   "cell_type": "markdown",
   "id": "721ce0c1-5da6-4d26-8ee1-8d54be2a0f9f",
   "metadata": {},
   "source": [
    "#### Trying to revise python from scratch and advancing to data analytics to get some ideas along the way!"
   ]
  },
  {
   "cell_type": "markdown",
   "id": "c7b48f57-631f-4ebc-a74b-fb1a315d9b94",
   "metadata": {},
   "source": [
    "#### Tracking the progress based on the date mentioned on the file and pushing it on git to have a regular update on progress"
   ]
  },
  {
   "cell_type": "markdown",
   "id": "c4dbfd03-a595-42e0-bdf2-3554200b348c",
   "metadata": {},
   "source": [
    "#### I'm skipping all the installation and running python on pc's and IDE's and diving into basics "
   ]
  },
  {
   "cell_type": "code",
   "execution_count": 1,
   "id": "3ad038e5-b435-4264-82a9-a0decebacebd",
   "metadata": {},
   "outputs": [],
   "source": [
    "# To comment on jupyter notebook we can do this"
   ]
  },
  {
   "cell_type": "markdown",
   "id": "0948bb67-b711-44b8-ac52-6c9a3b1ebe87",
   "metadata": {},
   "source": [
    "#### I'm writing my first line of code using print statement "
   ]
  },
  {
   "cell_type": "code",
   "execution_count": 1,
   "id": "1e870404-d0f8-426f-b208-72b594875590",
   "metadata": {},
   "outputs": [
    {
     "name": "stdout",
     "output_type": "stream",
     "text": [
      "Hello Kasula\n"
     ]
    }
   ],
   "source": [
    "print(\"Hello Kasula\")"
   ]
  },
  {
   "cell_type": "markdown",
   "id": "aab5b34b-8d88-44e4-8e96-737dfbc1443b",
   "metadata": {},
   "source": [
    "#### I can store a message in a variable and use to print it"
   ]
  },
  {
   "cell_type": "code",
   "execution_count": 2,
   "id": "e2e8e653-580d-4fa5-ab94-2fffa66b8e71",
   "metadata": {},
   "outputs": [
    {
     "name": "stdout",
     "output_type": "stream",
     "text": [
      "No time to waste Kasula, make it quick!\n"
     ]
    }
   ],
   "source": [
    "message = \"No time to waste Kasula, make it quick!\"\n",
    "print(message)"
   ]
  },
  {
   "cell_type": "markdown",
   "id": "83227dbf-2c0c-41c9-bd12-dac717f2671c",
   "metadata": {},
   "source": [
    "#### There are some conditions while assigning a value to a variable, I will intentionally make some errors so that you remember how a variable shouldn't be created  "
   ]
  },
  {
   "cell_type": "code",
   "execution_count": 3,
   "id": "222a0389-3cd8-4c93-8f04-d436ffa4a71c",
   "metadata": {},
   "outputs": [
    {
     "ename": "SyntaxError",
     "evalue": "invalid decimal literal (2504319869.py, line 1)",
     "output_type": "error",
     "traceback": [
      "\u001b[1;36m  File \u001b[1;32m\"C:\\Users\\MY PC\\AppData\\Local\\Temp\\ipykernel_6048\\2504319869.py\"\u001b[1;36m, line \u001b[1;32m1\u001b[0m\n\u001b[1;33m    1_msg = \"Hello World\"\u001b[0m\n\u001b[1;37m     ^\u001b[0m\n\u001b[1;31mSyntaxError\u001b[0m\u001b[1;31m:\u001b[0m invalid decimal literal\n"
     ]
    }
   ],
   "source": [
    "1_msg = \"Hello World\""
   ]
  },
  {
   "cell_type": "code",
   "execution_count": 4,
   "id": "1c2ed8fd-2cf4-4e71-88b7-94700398dfa0",
   "metadata": {},
   "outputs": [
    {
     "ename": "SyntaxError",
     "evalue": "invalid syntax (3826068008.py, line 1)",
     "output_type": "error",
     "traceback": [
      "\u001b[1;36m  File \u001b[1;32m\"C:\\Users\\MY PC\\AppData\\Local\\Temp\\ipykernel_6048\\3826068008.py\"\u001b[1;36m, line \u001b[1;32m1\u001b[0m\n\u001b[1;33m    greet msg = \"Hello Kasula\"\u001b[0m\n\u001b[1;37m          ^\u001b[0m\n\u001b[1;31mSyntaxError\u001b[0m\u001b[1;31m:\u001b[0m invalid syntax\n"
     ]
    }
   ],
   "source": [
    "greet msg = \"Hello Kasula\""
   ]
  },
  {
   "cell_type": "code",
   "execution_count": 5,
   "id": "35acdaea-19d0-4032-9b06-5a2d0e379c2a",
   "metadata": {},
   "outputs": [
    {
     "data": {
      "text/plain": [
       "'hello'"
      ]
     },
     "execution_count": 5,
     "metadata": {},
     "output_type": "execute_result"
    }
   ],
   "source": [
    "print = \"hello\"\n",
    "print"
   ]
  },
  {
   "cell_type": "markdown",
   "id": "61b7b2b4-850d-43e7-b702-465f4a2ea452",
   "metadata": {},
   "source": [
    "#### The above part is not recommended as print is a built-in function, never use built-in functions "
   ]
  },
  {
   "cell_type": "markdown",
   "id": "b5934cf1-ce8c-46f3-9702-614958b36df9",
   "metadata": {},
   "source": [
    "#### - student_name >>> s_n"
   ]
  },
  {
   "cell_type": "markdown",
   "id": "886844a1-e4e9-4c00-9d62-67bef65bad5e",
   "metadata": {},
   "source": [
    "#### - name_length >>> length_of_persons_name "
   ]
  },
  {
   "cell_type": "markdown",
   "id": "4522a711-c250-41fd-b0b5-bb9ff5844409",
   "metadata": {},
   "source": [
    "#### - Be careful while using zero and 'o' "
   ]
  },
  {
   "cell_type": "markdown",
   "id": "294b4ce5-3dcc-4b6d-ab8a-feb48450a309",
   "metadata": {},
   "source": [
    "#### The programming language isn't tough, you just have to communicate the right way to fix your errors "
   ]
  },
  {
   "cell_type": "markdown",
   "id": "7cd0f23a-136e-4c08-afea-579250c10bf6",
   "metadata": {},
   "source": [
    "# Strings "
   ]
  },
  {
   "cell_type": "markdown",
   "id": "f009a71c-27c5-4a62-97d0-ec14d5e349b0",
   "metadata": {},
   "source": [
    "#### Strings are a series of characters that are usually stored inside quotes and those quotes can be ' ' or \" \". "
   ]
  },
  {
   "cell_type": "markdown",
   "id": "a86343ca-f1e9-41f0-86e8-52d587459cd3",
   "metadata": {},
   "source": [
    "#### We can change the case of the strings using methods"
   ]
  },
  {
   "cell_type": "code",
   "execution_count": 4,
   "id": "0acb152f-cd64-4ae4-b0b7-acd5e281d6f1",
   "metadata": {},
   "outputs": [
    {
     "data": {
      "text/plain": [
       "'abhijith kasula'"
      ]
     },
     "execution_count": 4,
     "metadata": {},
     "output_type": "execute_result"
    }
   ],
   "source": [
    "a = \"abhijith kasula\"\n",
    "a"
   ]
  },
  {
   "cell_type": "code",
   "execution_count": 5,
   "id": "6d5f6b30-cf47-491d-8709-a4afbc15dbc4",
   "metadata": {},
   "outputs": [
    {
     "name": "stdout",
     "output_type": "stream",
     "text": [
      "abhijith kasula\n"
     ]
    }
   ],
   "source": [
    "print(a)"
   ]
  },
  {
   "cell_type": "markdown",
   "id": "316d9468-c3a9-4bc8-bf0d-7c6f8698d4f2",
   "metadata": {},
   "source": [
    "#### We will convert the name to upper case using a method called title() "
   ]
  },
  {
   "cell_type": "code",
   "execution_count": 6,
   "id": "38dc3aae-4bf6-442a-8cb1-e84968755990",
   "metadata": {},
   "outputs": [
    {
     "name": "stdout",
     "output_type": "stream",
     "text": [
      "Abhijith Kasula\n"
     ]
    }
   ],
   "source": [
    "print(a.title())"
   ]
  },
  {
   "cell_type": "markdown",
   "id": "d60d9406-c9e9-41cc-bcbd-250f1be9022b",
   "metadata": {},
   "source": [
    "#### Method is a piece of action that python can perform on a piece of data, after the dot the method should be mentioned and here the method is title() and it can be used to perform the necesaary action "
   ]
  },
  {
   "cell_type": "markdown",
   "id": "aa7ad62a-b52f-425f-9c01-3fe29053170f",
   "metadata": {},
   "source": [
    "#### Look into the syntax and parantheses "
   ]
  },
  {
   "cell_type": "markdown",
   "id": "1ae534c0-df2e-4e4b-a302-e4c7cad69f50",
   "metadata": {},
   "source": [
    "#### There are few more types of methods that are usually useful "
   ]
  },
  {
   "cell_type": "code",
   "execution_count": 7,
   "id": "43a52645-b88b-4bc2-ab61-a0b558d06175",
   "metadata": {},
   "outputs": [
    {
     "name": "stdout",
     "output_type": "stream",
     "text": [
      "abhijith kasula\n"
     ]
    }
   ],
   "source": [
    "print(a.lower())"
   ]
  },
  {
   "cell_type": "code",
   "execution_count": 8,
   "id": "4f2b5983-8624-4d21-9087-ad7709dccaea",
   "metadata": {},
   "outputs": [
    {
     "name": "stdout",
     "output_type": "stream",
     "text": [
      "ABHIJITH KASULA\n"
     ]
    }
   ],
   "source": [
    "print(a.upper())"
   ]
  },
  {
   "cell_type": "markdown",
   "id": "26ce679a-180f-470a-a152-fd98e79888df",
   "metadata": {},
   "source": [
    "# f-strings  "
   ]
  },
  {
   "cell_type": "markdown",
   "id": "da18dfc3-3498-4bb1-8f0c-1e446b62ea3c",
   "metadata": {},
   "source": [
    "#### This is nothing but string formatting, this is an alternative for .format() and it is much faster and easier"
   ]
  },
  {
   "cell_type": "code",
   "execution_count": 9,
   "id": "b7773bcc-95ce-4567-a3c1-180a0384c599",
   "metadata": {},
   "outputs": [
    {
     "name": "stdout",
     "output_type": "stream",
     "text": [
      "abhijith kasula\n"
     ]
    }
   ],
   "source": [
    "first_name = \"abhijith\"\n",
    "last_name = \"kasula\"\n",
    "full_name = f\"{first_name} {last_name}\"\n",
    "print(full_name)"
   ]
  },
  {
   "cell_type": "markdown",
   "id": "5e9cb13b-203d-4773-a72b-77df56d2dfbe",
   "metadata": {},
   "source": [
    "#### We can use methods and then add multiple strings and print a set of string along with the formatting "
   ]
  },
  {
   "cell_type": "code",
   "execution_count": 12,
   "id": "3368f00d-1b4f-4055-811f-b43ea6d79836",
   "metadata": {},
   "outputs": [
    {
     "name": "stdout",
     "output_type": "stream",
     "text": [
      "Hey, you are the best Abhijith Kasula\n"
     ]
    }
   ],
   "source": [
    "print(f\"Hey, you are the best {full_name.title()}\")"
   ]
  },
  {
   "cell_type": "markdown",
   "id": "33ce1304-b1e3-4835-8efa-706e89365f2d",
   "metadata": {},
   "source": [
    "#### You can assign the entire message to the another variable "
   ]
  },
  {
   "cell_type": "code",
   "execution_count": 13,
   "id": "a8ce0b3a-f630-45e8-9711-d9921dab0870",
   "metadata": {},
   "outputs": [],
   "source": [
    "message = f\"Hey, you are the best {full_name.title()}\""
   ]
  },
  {
   "cell_type": "code",
   "execution_count": 14,
   "id": "01e7971d-9617-43c7-b186-3a74a46ee3d1",
   "metadata": {},
   "outputs": [
    {
     "name": "stdout",
     "output_type": "stream",
     "text": [
      "Hey, you are the best Abhijith Kasula\n"
     ]
    }
   ],
   "source": [
    "print(message)"
   ]
  }
 ],
 "metadata": {
  "kernelspec": {
   "display_name": "Python 3 (ipykernel)",
   "language": "python",
   "name": "python3"
  },
  "language_info": {
   "codemirror_mode": {
    "name": "ipython",
    "version": 3
   },
   "file_extension": ".py",
   "mimetype": "text/x-python",
   "name": "python",
   "nbconvert_exporter": "python",
   "pygments_lexer": "ipython3",
   "version": "3.9.13"
  }
 },
 "nbformat": 4,
 "nbformat_minor": 5
}
