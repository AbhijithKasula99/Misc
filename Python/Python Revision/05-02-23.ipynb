{
 "cells": [
  {
   "cell_type": "markdown",
   "id": "3bcf0bc2",
   "metadata": {},
   "source": [
    "# Python Crash Course "
   ]
  },
  {
   "cell_type": "markdown",
   "id": "823866ba",
   "metadata": {},
   "source": [
    "### Adding Whitespaces "
   ]
  },
  {
   "cell_type": "markdown",
   "id": "83a0ae0a",
   "metadata": {},
   "source": [
    "- To add a tab we need to use \\t"
   ]
  },
  {
   "cell_type": "code",
   "execution_count": 1,
   "id": "643476ab",
   "metadata": {},
   "outputs": [
    {
     "name": "stdout",
     "output_type": "stream",
     "text": [
      "python\n"
     ]
    }
   ],
   "source": [
    "print(\"python\")"
   ]
  },
  {
   "cell_type": "code",
   "execution_count": 2,
   "id": "eed4cbcd",
   "metadata": {},
   "outputs": [
    {
     "name": "stdout",
     "output_type": "stream",
     "text": [
      "\tpython\n"
     ]
    }
   ],
   "source": [
    "print(\"\\tpython\")"
   ]
  },
  {
   "cell_type": "markdown",
   "id": "63e3fb89",
   "metadata": {},
   "source": [
    "- We can use \\n for new line"
   ]
  },
  {
   "cell_type": "code",
   "execution_count": 3,
   "id": "fbe0328f",
   "metadata": {},
   "outputs": [
    {
     "name": "stdout",
     "output_type": "stream",
     "text": [
      "Places:\n",
      "Boston\n",
      "New York\n",
      "Cincinnati\n",
      "Columbus\n"
     ]
    }
   ],
   "source": [
    "print(\"Places:\\nBoston\\nNew York\\nCincinnati\\nColumbus\")"
   ]
  },
  {
   "cell_type": "markdown",
   "id": "55d34f60",
   "metadata": {},
   "source": [
    "- We can do a combination of it too"
   ]
  },
  {
   "cell_type": "code",
   "execution_count": 7,
   "id": "4362021f",
   "metadata": {},
   "outputs": [
    {
     "name": "stdout",
     "output_type": "stream",
     "text": [
      "Friends:\n",
      "\tAbhijith\n",
      "\tBhargav\n",
      "\tPhani\n",
      "\tHemanth\n"
     ]
    }
   ],
   "source": [
    "print(\"Friends:\\n\\tAbhijith\\n\\tBhargav\\n\\tPhani\\n\\tHemanth\")"
   ]
  },
  {
   "cell_type": "markdown",
   "id": "499adb3e",
   "metadata": {},
   "source": [
    "- These things are known as whitespace, these are not usually preferred because to programmers it might look the same but it is different in an interpreter. To solve that we can use rstrip if the whitespace is towards the right of the variable and lstrip is towards the left of the variable."
   ]
  },
  {
   "cell_type": "code",
   "execution_count": 8,
   "id": "eddbd140",
   "metadata": {},
   "outputs": [
    {
     "data": {
      "text/plain": [
       "'python'"
      ]
     },
     "execution_count": 8,
     "metadata": {},
     "output_type": "execute_result"
    }
   ],
   "source": [
    "f1 = 'python '\n",
    "f1.rstrip()"
   ]
  },
  {
   "cell_type": "code",
   "execution_count": 9,
   "id": "a048f0db",
   "metadata": {},
   "outputs": [
    {
     "data": {
      "text/plain": [
       "'python '"
      ]
     },
     "execution_count": 9,
     "metadata": {},
     "output_type": "execute_result"
    }
   ],
   "source": [
    "f1"
   ]
  },
  {
   "cell_type": "markdown",
   "id": "681126f7",
   "metadata": {},
   "source": [
    "- We can notice that the rstrip is only applied temporarily and to put it permanently we need to do"
   ]
  },
  {
   "cell_type": "code",
   "execution_count": 10,
   "id": "d2a56668",
   "metadata": {},
   "outputs": [],
   "source": [
    "f1 = f1.rstrip()"
   ]
  },
  {
   "cell_type": "code",
   "execution_count": 11,
   "id": "466d4d94",
   "metadata": {},
   "outputs": [
    {
     "data": {
      "text/plain": [
       "'python'"
      ]
     },
     "execution_count": 11,
     "metadata": {},
     "output_type": "execute_result"
    }
   ],
   "source": [
    "f1"
   ]
  },
  {
   "cell_type": "markdown",
   "id": "f6408cac",
   "metadata": {},
   "source": [
    "- It is the same for the lstrip too, if we want to do it from both the sides then strip is the option "
   ]
  },
  {
   "cell_type": "markdown",
   "id": "0ad3c2bf",
   "metadata": {},
   "source": [
    "### Removing Prefixes"
   ]
  },
  {
   "cell_type": "markdown",
   "id": "e190954f",
   "metadata": {},
   "source": [
    "- Another common thing while dealing with url's is removing the http://. part "
   ]
  },
  {
   "cell_type": "code",
   "execution_count": 21,
   "id": "ffa3a034",
   "metadata": {},
   "outputs": [],
   "source": [
    "coolors_url = 'https://coolors.com'"
   ]
  },
  {
   "cell_type": "code",
   "execution_count": 22,
   "id": "53e1c671",
   "metadata": {},
   "outputs": [
    {
     "data": {
      "text/plain": [
       "'coolors.com'"
      ]
     },
     "execution_count": 22,
     "metadata": {},
     "output_type": "execute_result"
    }
   ],
   "source": [
    "coolors_url.removeprefix('https://')"
   ]
  },
  {
   "cell_type": "code",
   "execution_count": 23,
   "id": "ad25e334",
   "metadata": {},
   "outputs": [
    {
     "data": {
      "text/plain": [
       "'https://coolors.com'"
      ]
     },
     "execution_count": 23,
     "metadata": {},
     "output_type": "execute_result"
    }
   ],
   "source": [
    "coolors_url"
   ]
  },
  {
   "cell_type": "markdown",
   "id": "71224f6d",
   "metadata": {},
   "source": [
    "- Just like strip() function this change is temporary, so to make it permanent"
   ]
  },
  {
   "cell_type": "code",
   "execution_count": 29,
   "id": "02ce4ebe",
   "metadata": {},
   "outputs": [],
   "source": [
    "coolors_url = coolors_url.removeprefix('https://')"
   ]
  },
  {
   "cell_type": "code",
   "execution_count": 30,
   "id": "5ae44e4a",
   "metadata": {},
   "outputs": [
    {
     "data": {
      "text/plain": [
       "'coolors.com'"
      ]
     },
     "execution_count": 30,
     "metadata": {},
     "output_type": "execute_result"
    }
   ],
   "source": [
    "coolors_url"
   ]
  },
  {
   "cell_type": "markdown",
   "id": "acaf12e6",
   "metadata": {},
   "source": [
    "- If you want to use apostrophe in the statement use double quotes in print statement"
   ]
  },
  {
   "cell_type": "code",
   "execution_count": 31,
   "id": "eb08f5c7",
   "metadata": {},
   "outputs": [
    {
     "ename": "SyntaxError",
     "evalue": "invalid syntax (2552120151.py, line 1)",
     "output_type": "error",
     "traceback": [
      "\u001b[1;36m  File \u001b[1;32m\"C:\\Users\\MY PC\\AppData\\Local\\Temp\\ipykernel_1492\\2552120151.py\"\u001b[1;36m, line \u001b[1;32m1\u001b[0m\n\u001b[1;33m    print('Abhijith's car)\u001b[0m\n\u001b[1;37m                    ^\u001b[0m\n\u001b[1;31mSyntaxError\u001b[0m\u001b[1;31m:\u001b[0m invalid syntax\n"
     ]
    }
   ],
   "source": [
    "print('Abhijith's car)"
   ]
  },
  {
   "cell_type": "code",
   "execution_count": 32,
   "id": "59f3c1e7",
   "metadata": {},
   "outputs": [
    {
     "name": "stdout",
     "output_type": "stream",
     "text": [
      "Abhijith's car\n"
     ]
    }
   ],
   "source": [
    "print(\"Abhijith's car\")"
   ]
  },
  {
   "cell_type": "markdown",
   "id": "4ad8d6f4",
   "metadata": {},
   "source": [
    "---"
   ]
  },
  {
   "cell_type": "markdown",
   "id": "dc1047eb",
   "metadata": {},
   "source": [
    "## Try it Yourself"
   ]
  },
  {
   "cell_type": "code",
   "execution_count": 35,
   "id": "c8300cfc",
   "metadata": {},
   "outputs": [
    {
     "name": "stdout",
     "output_type": "stream",
     "text": [
      "Hello Abhijith , would you like to learn python today?\n"
     ]
    }
   ],
   "source": [
    "# 2.3\n",
    "n = 'Abhijith'\n",
    "print(\"Hello\",n,\", would you like to learn python today?\")"
   ]
  },
  {
   "cell_type": "code",
   "execution_count": 36,
   "id": "89954dd3",
   "metadata": {},
   "outputs": [
    {
     "name": "stdout",
     "output_type": "stream",
     "text": [
      "ABHIJITH\n"
     ]
    }
   ],
   "source": [
    "# 2.4\n",
    "\n",
    "print(n.upper())"
   ]
  },
  {
   "cell_type": "code",
   "execution_count": 37,
   "id": "7113cdf9",
   "metadata": {},
   "outputs": [
    {
     "name": "stdout",
     "output_type": "stream",
     "text": [
      "abhijith\n"
     ]
    }
   ],
   "source": [
    "# 2.4\n",
    "\n",
    "print(n.lower())"
   ]
  },
  {
   "cell_type": "code",
   "execution_count": 38,
   "id": "fb94d793",
   "metadata": {},
   "outputs": [
    {
     "name": "stdout",
     "output_type": "stream",
     "text": [
      "Abhijith\n"
     ]
    }
   ],
   "source": [
    "# 2.4\n",
    "\n",
    "print(n.title())"
   ]
  },
  {
   "cell_type": "code",
   "execution_count": 40,
   "id": "fc7b315e",
   "metadata": {},
   "outputs": [
    {
     "name": "stdout",
     "output_type": "stream",
     "text": [
      "Marcus Aurelius once said, \"You have power over your mind - not outside events. Realize this, and you will find strength.\"\n"
     ]
    }
   ],
   "source": [
    "# 2.5\n",
    "\n",
    "print('Marcus Aurelius once said, \"You have power over your mind - not outside events. Realize this, and you will find strength.\"')"
   ]
  },
  {
   "cell_type": "code",
   "execution_count": 41,
   "id": "eda5aa97",
   "metadata": {},
   "outputs": [
    {
     "name": "stdout",
     "output_type": "stream",
     "text": [
      "Marcus Aurelius once said, \"You have power over your mind - not outside events. Realize this, and you will find strength.\"\n"
     ]
    }
   ],
   "source": [
    "# 2.6\n",
    "\n",
    "famous_person = 'Marcus Aurelius'\n",
    "message = '\"You have power over your mind - not outside events. Realize this, and you will find strength.\"'\n",
    "\n",
    "print(famous_person,'once said,',message)"
   ]
  },
  {
   "cell_type": "code",
   "execution_count": 56,
   "id": "9d9f7080",
   "metadata": {},
   "outputs": [],
   "source": [
    "# 2.7\n",
    "\n",
    "a = ' Abhijith'\n",
    "b = 'Kasula '"
   ]
  },
  {
   "cell_type": "code",
   "execution_count": 57,
   "id": "ea7bffe6",
   "metadata": {},
   "outputs": [
    {
     "data": {
      "text/plain": [
       "'Abhijith'"
      ]
     },
     "execution_count": 57,
     "metadata": {},
     "output_type": "execute_result"
    }
   ],
   "source": [
    "a = a.lstrip()\n",
    "a"
   ]
  },
  {
   "cell_type": "code",
   "execution_count": 59,
   "id": "e14daed8",
   "metadata": {},
   "outputs": [
    {
     "data": {
      "text/plain": [
       "'Kasula'"
      ]
     },
     "execution_count": 59,
     "metadata": {},
     "output_type": "execute_result"
    }
   ],
   "source": [
    "b = b.rstrip()\n",
    "b"
   ]
  },
  {
   "cell_type": "code",
   "execution_count": 61,
   "id": "9cd5e6f0",
   "metadata": {},
   "outputs": [],
   "source": [
    "# 2.8 \n",
    "\n",
    "\n",
    "file = 'kasula.txt'"
   ]
  },
  {
   "cell_type": "code",
   "execution_count": 62,
   "id": "27133d48",
   "metadata": {},
   "outputs": [
    {
     "data": {
      "text/plain": [
       "'kasula'"
      ]
     },
     "execution_count": 62,
     "metadata": {},
     "output_type": "execute_result"
    }
   ],
   "source": [
    "file.removesuffix('.txt')"
   ]
  },
  {
   "cell_type": "code",
   "execution_count": 63,
   "id": "afd9366b",
   "metadata": {},
   "outputs": [
    {
     "data": {
      "text/plain": [
       "'kasula.txt'"
      ]
     },
     "execution_count": 63,
     "metadata": {},
     "output_type": "execute_result"
    }
   ],
   "source": [
    "file"
   ]
  },
  {
   "cell_type": "code",
   "execution_count": 64,
   "id": "5bc72114",
   "metadata": {},
   "outputs": [],
   "source": [
    "file = file.removesuffix('.txt')"
   ]
  },
  {
   "cell_type": "code",
   "execution_count": 65,
   "id": "1a908472",
   "metadata": {},
   "outputs": [
    {
     "data": {
      "text/plain": [
       "'kasula'"
      ]
     },
     "execution_count": 65,
     "metadata": {},
     "output_type": "execute_result"
    }
   ],
   "source": [
    "file"
   ]
  }
 ],
 "metadata": {
  "kernelspec": {
   "display_name": "Python 3 (ipykernel)",
   "language": "python",
   "name": "python3"
  },
  "language_info": {
   "codemirror_mode": {
    "name": "ipython",
    "version": 3
   },
   "file_extension": ".py",
   "mimetype": "text/x-python",
   "name": "python",
   "nbconvert_exporter": "python",
   "pygments_lexer": "ipython3",
   "version": "3.9.13"
  }
 },
 "nbformat": 4,
 "nbformat_minor": 5
}
