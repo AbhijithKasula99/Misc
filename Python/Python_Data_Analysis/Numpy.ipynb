{
 "cells": [
  {
   "cell_type": "markdown",
   "id": "516f4176",
   "metadata": {},
   "source": [
    "# Introduction to Numpy\n",
    "\n",
    "- Numpy is an open source Python library that's used in almost every field of science and engineering. It is universal standard for working with numerical data in Python.\n",
    "\n",
    "### What is an array?\n",
    "\n",
    "- An array is a data structure of NumPy library. The elements are all the same type, referred to as array dtype. \n",
    "\n",
    "- Anytime you need to use a package or a library you need to make it accessible by importing it. "
   ]
  },
  {
   "cell_type": "code",
   "execution_count": 6,
   "id": "7c36d9da",
   "metadata": {},
   "outputs": [],
   "source": [
    "import numpy as np\n",
    "# np is standard annotation, we can use anything instead of np but while caaling it we must use the same word used after as."
   ]
  },
  {
   "cell_type": "markdown",
   "id": "6b390a64",
   "metadata": {},
   "source": [
    "# Different methods of creating an array\n",
    "\n",
    "### Method 1: Using array function"
   ]
  },
  {
   "cell_type": "code",
   "execution_count": 7,
   "id": "4a9b35fc",
   "metadata": {},
   "outputs": [
    {
     "name": "stdout",
     "output_type": "stream",
     "text": [
      "[1 2 3 4]\n",
      "['a' 'bc' 'd']\n"
     ]
    }
   ],
   "source": [
    "# To create a NumPy array, you can use the function np.array(). We initialize the array inside square brackets []\n",
    "\n",
    "int_array = np.array([1,2,3,4])\n",
    "print(int_array)\n",
    "\n",
    "str_array = np.array(['a','bc','d'])\n",
    "print(str_array)"
   ]
  },
  {
   "cell_type": "markdown",
   "id": "b0743efe",
   "metadata": {},
   "source": [
    "### Method 2: Using zeroes and ones function"
   ]
  },
  {
   "cell_type": "code",
   "execution_count": 9,
   "id": "04a6c953",
   "metadata": {},
   "outputs": [
    {
     "name": "stdout",
     "output_type": "stream",
     "text": [
      "[0. 0. 0. 0.]\n",
      "[1. 1. 1. 1.]\n"
     ]
    }
   ],
   "source": [
    "# Creating arrays using only zeroes and ones\n",
    "zero_array = np.zeros(4)\n",
    "print(zero_array)\n",
    "\n",
    "ones_array = np.ones(4)\n",
    "print(ones_array)"
   ]
  },
  {
   "cell_type": "markdown",
   "id": "04394368",
   "metadata": {},
   "source": [
    "### Method 3: Using arange  "
   ]
  },
  {
   "cell_type": "code",
   "execution_count": 12,
   "id": "f09ed5a7",
   "metadata": {},
   "outputs": [
    {
     "name": "stdout",
     "output_type": "stream",
     "text": [
      "[1 4 7]\n",
      "[ 2  6 10 14 18]\n"
     ]
    }
   ],
   "source": [
    "# Creating an array with a range of evenly spaced intervals\n",
    "# np.arange(start, stop, step size)\n",
    "\n",
    "exm_1 = np.arange(1,10,3) # 1 + 3 = 4, 4 + 3 = 7\n",
    "print(exm_1)\n",
    "\n",
    "exm_2 = np.arange(2,20,4)\n",
    "print(exm_2)"
   ]
  },
  {
   "cell_type": "markdown",
   "id": "dc1f1496",
   "metadata": {},
   "source": [
    "### Method 4: Using linspace "
   ]
  },
  {
   "cell_type": "code",
   "execution_count": 17,
   "id": "9f08f1d8",
   "metadata": {},
   "outputs": [
    {
     "name": "stdout",
     "output_type": "stream",
     "text": [
      "[ 1.   5.5 10. ]\n",
      "[ 1.    3.25  5.5   7.75 10.  ]\n"
     ]
    }
   ],
   "source": [
    "# We can also use np.linespace() to create an array with values that are spaced linearly in a specified interval\n",
    "# np.linespace(start, end, total numbers) \n",
    "\n",
    "ex_3 = np.linspace(1,10,3) \n",
    "print(ex_3)\n",
    "\n",
    "ex_4 = np.linspace(1,10,5) \n",
    "print(ex_4)\n",
    "\n",
    "# 1 and 10 are the first and last numbers based on total numbers it averages \n",
    "# it needs one more number as total numbers is 3, so the average of 1 and 10 is 5.5."
   ]
  },
  {
   "cell_type": "markdown",
   "id": "e28b5dc3",
   "metadata": {},
   "source": [
    "# Sorting, Adding and Removing elements "
   ]
  },
  {
   "cell_type": "markdown",
   "id": "9267b0bb",
   "metadata": {},
   "source": [
    "### 1. Sorting "
   ]
  },
  {
   "cell_type": "code",
   "execution_count": 21,
   "id": "79db7509",
   "metadata": {},
   "outputs": [
    {
     "name": "stdout",
     "output_type": "stream",
     "text": [
      "[1 2 3 4 5 6]\n",
      "[-3 -2 -1  0  1  2  3]\n",
      "['a' 'b' 'c' 'd']\n"
     ]
    }
   ],
   "source": [
    "# Sorting\n",
    "a1 = np.array([2,1,5,3,6,4])\n",
    "print(np.sort(a1))\n",
    "\n",
    "a2 = np.array([-1,1,0,-3,-2,3,2])\n",
    "print(np.sort(a2))\n",
    "\n",
    "a3 = np.array(['c','b','d','a'])\n",
    "print(np.sort(a3))"
   ]
  },
  {
   "cell_type": "markdown",
   "id": "e10a0f41",
   "metadata": {},
   "source": [
    "### 2. Adding/Concatenating "
   ]
  },
  {
   "cell_type": "code",
   "execution_count": 31,
   "id": "b7be8ab8",
   "metadata": {},
   "outputs": [
    {
     "name": "stdout",
     "output_type": "stream",
     "text": [
      "[1 2 3 4 5 6 7 8 9]\n"
     ]
    }
   ],
   "source": [
    "# Concatenate np.concatenate()\n",
    "# a is leading array, b is trailing array\n",
    "a = np.array([1,2,3,4])\n",
    "b = np.array([5,6])\n",
    "c = np.array([7,8,9])\n",
    "print(np.concatenate((a,b,c))) # Careful with the brackets"
   ]
  },
  {
   "cell_type": "markdown",
   "id": "030ed41b",
   "metadata": {},
   "source": [
    "### 3. Deletion "
   ]
  },
  {
   "cell_type": "code",
   "execution_count": 32,
   "id": "9351d113",
   "metadata": {},
   "outputs": [
    {
     "data": {
      "text/plain": [
       "array([1, 2, 3])"
      ]
     },
     "execution_count": 32,
     "metadata": {},
     "output_type": "execute_result"
    }
   ],
   "source": [
    "# Delete elements from an array\n",
    "# np.delete(array, index)\n",
    "np.delete(a,3)"
   ]
  },
  {
   "cell_type": "markdown",
   "id": "2660c1dc",
   "metadata": {},
   "source": [
    "# Multi-Dimensional Arrays "
   ]
  },
  {
   "cell_type": "code",
   "execution_count": 36,
   "id": "5ecc2a23",
   "metadata": {},
   "outputs": [
    {
     "name": "stdout",
     "output_type": "stream",
     "text": [
      "1\n",
      "4\n",
      "(4,)\n"
     ]
    }
   ],
   "source": [
    "# Single dimensional array \n",
    "s_dim = np.array([1,2,3,4])\n",
    "# To get the no of elements in an array\n",
    "print(s_dim.ndim)\n",
    "# To get the total elements in an array\n",
    "print(s_dim.size)\n",
    "# To get the number of rows and columns\n",
    "print(s_dim.shape)"
   ]
  },
  {
   "cell_type": "code",
   "execution_count": 37,
   "id": "959e631b",
   "metadata": {},
   "outputs": [
    {
     "name": "stdout",
     "output_type": "stream",
     "text": [
      "2\n",
      "8\n",
      "(2, 4)\n"
     ]
    }
   ],
   "source": [
    "# Multi-Dimensional Array with 2 rows and 4 columns\n",
    "m_dim = np.array([[1,2,3,4],\n",
    "                [5,6,7,8]])\n",
    "# To get the no of elements in an array\n",
    "print(m_dim.ndim)\n",
    "# To get the total elements in an array\n",
    "print(m_dim.size)\n",
    "# To get the number of rows and columns\n",
    "print(m_dim.shape)"
   ]
  },
  {
   "cell_type": "code",
   "execution_count": 45,
   "id": "dd1e19ab",
   "metadata": {},
   "outputs": [],
   "source": [
    "# Multi-Dimensional Array with rows, columns and height\n",
    "mu_dim = np.array([\n",
    "        [[1,2,3,4],\n",
    "         [5,6,7,8]],\n",
    "        [[9,10,11,12],\n",
    "        [13,14,15,16]]\n",
    "        ])\n",
    "# There are 3 square brackets from the outer side when we enter the first one we get the height\n",
    "# When we move to the second bracket we get the rows\n",
    "# When we move more columns\n",
    "# Hence this array contains height of 2, 2 rows and 4 columns"
   ]
  },
  {
   "cell_type": "code",
   "execution_count": 44,
   "id": "8db0d721",
   "metadata": {},
   "outputs": [
    {
     "name": "stdout",
     "output_type": "stream",
     "text": [
      "3\n",
      "8\n",
      "(2, 2, 4)\n"
     ]
    }
   ],
   "source": [
    "# To get the no of elements in an array\n",
    "print(mu_dim.ndim)\n",
    "# To get the total elements in an array\n",
    "print(m_dim.size)\n",
    "# To get the number of rows and columns\n",
    "print(mu_dim.shape)"
   ]
  },
  {
   "cell_type": "markdown",
   "id": "ec8aac41",
   "metadata": {},
   "source": [
    "# Indexing and Slicing "
   ]
  },
  {
   "cell_type": "code",
   "execution_count": 47,
   "id": "53d3ff3f",
   "metadata": {},
   "outputs": [
    {
     "name": "stdout",
     "output_type": "stream",
     "text": [
      "4\n",
      "[1 2]\n",
      "[1 2]\n",
      "[2 3 4]\n"
     ]
    }
   ],
   "source": [
    "# In Python index always starts from zero, be careful while accessing an element using index\n",
    "a = np.array([1,2,3,4])\n",
    "\n",
    "# Accessing last element\n",
    "print(a[3]) # as there are 4 elements\n",
    "\n",
    "# Accessing first 2 elements\n",
    "print(a[0:2]) # Here the element in index 2 won't be included\n",
    "print(a[:2]) # We don't need to mention zero because the compiler starts from there by default\n",
    "\n",
    "# Accessing the last 3 elements\n",
    "print(a[-3:]) # This starts from the last and prints three elements from the last"
   ]
  },
  {
   "cell_type": "code",
   "execution_count": 56,
   "id": "22e25ebd",
   "metadata": {},
   "outputs": [
    {
     "name": "stdout",
     "output_type": "stream",
     "text": [
      "[2 5]\n",
      "[[1]\n",
      " [4]]\n"
     ]
    }
   ],
   "source": [
    "# Doing the same in 2 dimensional array\n",
    "a2 = np.array([[1,2,3],\n",
    "              [4,5,6]])\n",
    "# Picking 2 rows and 2nd column\n",
    "print(a2[:,1]) # Colon for both the rows and index 1 for second column\n",
    "print(a2[:,:1]) # 2nd column will be excluded as mentioned before "
   ]
  },
  {
   "cell_type": "code",
   "execution_count": 51,
   "id": "62203159",
   "metadata": {},
   "outputs": [
    {
     "name": "stdout",
     "output_type": "stream",
     "text": [
      "[1 2 2 3]\n",
      "[2 2 4]\n",
      "[3]\n",
      "[2 2 4]\n"
     ]
    }
   ],
   "source": [
    "# Subset of an array \n",
    "b = np.array([1,2,2,3,4])\n",
    "\n",
    "# Less than or equal to 3 \n",
    "print(b[b<=3])\n",
    "\n",
    "# Divisible by 2\n",
    "print(b[b % 2 == 0])\n",
    "\n",
    "# Select elements that are between 2 and 4 \n",
    "print(b[(b>2)&(b<4)])\n",
    "\n",
    "# Select elements that are equal to 2 or 4\n",
    "print(b[(b==2)|(b==4)])"
   ]
  },
  {
   "cell_type": "code",
   "execution_count": 55,
   "id": "32bb4e62",
   "metadata": {},
   "outputs": [
    {
     "name": "stdout",
     "output_type": "stream",
     "text": [
      "[False False False  True  True  True]\n",
      "[4 5 6]\n"
     ]
    }
   ],
   "source": [
    "# Logical operators AND (&) and OR (|) have the ability to give out boolean values that can be used to verify a certain condition\n",
    "c = np.array([1,2,3,4,5,6])\n",
    "\n",
    "c4 = (c > 4) | (c == 4)\n",
    "print(c4) # Returns boolean values\n",
    "\n",
    "print(c[c4]) # Prints the values that came out true to the condition."
   ]
  },
  {
   "cell_type": "markdown",
   "id": "10c33bef",
   "metadata": {},
   "source": [
    "# Basic Array Operations "
   ]
  },
  {
   "cell_type": "code",
   "execution_count": 57,
   "id": "2552421b",
   "metadata": {},
   "outputs": [],
   "source": [
    "a3 = np.array([2,4,6])\n",
    "a4 = np.array([1,2,3]) "
   ]
  },
  {
   "cell_type": "code",
   "execution_count": 59,
   "id": "e2952617",
   "metadata": {},
   "outputs": [
    {
     "name": "stdout",
     "output_type": "stream",
     "text": [
      "[3 6 9]\n"
     ]
    }
   ],
   "source": [
    "# Addition\n",
    "print(a3+a4) # Should always contain same rows and columns"
   ]
  },
  {
   "cell_type": "code",
   "execution_count": 60,
   "id": "f6a7d5db",
   "metadata": {},
   "outputs": [
    {
     "name": "stdout",
     "output_type": "stream",
     "text": [
      "[1 2 3]\n"
     ]
    }
   ],
   "source": [
    "# Subtraction\n",
    "print(a3-a4)"
   ]
  },
  {
   "cell_type": "code",
   "execution_count": 61,
   "id": "2403f2a7",
   "metadata": {},
   "outputs": [
    {
     "name": "stdout",
     "output_type": "stream",
     "text": [
      "[2. 2. 2.]\n"
     ]
    }
   ],
   "source": [
    "# Division\n",
    "print(a3/a4)"
   ]
  },
  {
   "cell_type": "code",
   "execution_count": 62,
   "id": "ddaf9199",
   "metadata": {},
   "outputs": [
    {
     "name": "stdout",
     "output_type": "stream",
     "text": [
      "[ 2  8 18]\n"
     ]
    }
   ],
   "source": [
    "# Multiplication\n",
    "print(a3*a4)"
   ]
  },
  {
   "cell_type": "code",
   "execution_count": 64,
   "id": "7a40f4d0",
   "metadata": {},
   "outputs": [
    {
     "name": "stdout",
     "output_type": "stream",
     "text": [
      "10\n",
      "[3 3]\n",
      "[2 4]\n"
     ]
    }
   ],
   "source": [
    "# Sum of elements in an array \n",
    "a5 = np.array([1,2,3,4])\n",
    "\n",
    "print(a5.sum())\n",
    "\n",
    "# Multi-Dimensional\n",
    "a6 = np.array([[1,1],\n",
    "             [2,2]])\n",
    "\n",
    "# Sum across columns\n",
    "print(a6.sum(axis=0))\n",
    "\n",
    "# Sum across rows\n",
    "print(a6.sum(axis=1))"
   ]
  },
  {
   "cell_type": "markdown",
   "id": "51d37405",
   "metadata": {},
   "source": [
    "### Min, Max, Mean and Standard Deviation "
   ]
  },
  {
   "cell_type": "code",
   "execution_count": 65,
   "id": "1848d32e",
   "metadata": {},
   "outputs": [
    {
     "name": "stdout",
     "output_type": "stream",
     "text": [
      "1\n",
      "7\n",
      "4.0\n",
      "2.0\n"
     ]
    }
   ],
   "source": [
    "a7 = np.array([1,2,3,4,5,6,7])\n",
    "\n",
    "# Minimum of an array\n",
    "print(a7.min())\n",
    "\n",
    "# Maximum of an array\n",
    "print(a7.max())\n",
    "\n",
    "# Mean of an array\n",
    "print(a7.mean())\n",
    "\n",
    "# Standard Deviation of an array\n",
    "print(a7.std())"
   ]
  },
  {
   "cell_type": "code",
   "execution_count": 78,
   "id": "058c1681",
   "metadata": {},
   "outputs": [
    {
     "name": "stdout",
     "output_type": "stream",
     "text": [
      "10\n",
      "4\n",
      "[2 1]\n",
      "[1 3]\n"
     ]
    }
   ],
   "source": [
    "# Doing the same on multi-dimensional array\n",
    "a8 = np.array([[2,1],\n",
    "              [3,4]])\n",
    "\n",
    "# Sum\n",
    "print(a8.sum())\n",
    "\n",
    "# Maximum\n",
    "print(a8.max())\n",
    "\n",
    "# Minimum across column\n",
    "print(a8.min(axis=0))\n",
    "\n",
    "# Minimum across row\n",
    "print(a8.min(axis = 1))"
   ]
  }
 ],
 "metadata": {
  "kernelspec": {
   "display_name": "Python 3 (ipykernel)",
   "language": "python",
   "name": "python3"
  },
  "language_info": {
   "codemirror_mode": {
    "name": "ipython",
    "version": 3
   },
   "file_extension": ".py",
   "mimetype": "text/x-python",
   "name": "python",
   "nbconvert_exporter": "python",
   "pygments_lexer": "ipython3",
   "version": "3.9.13"
  }
 },
 "nbformat": 4,
 "nbformat_minor": 5
}
