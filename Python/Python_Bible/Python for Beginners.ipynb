{
 "cells": [
  {
   "cell_type": "markdown",
   "id": "4a8a70c7",
   "metadata": {},
   "source": [
    "# Python for Beginners "
   ]
  },
  {
   "cell_type": "markdown",
   "id": "f08b964e",
   "metadata": {},
   "source": [
    "### Basic print and comment "
   ]
  },
  {
   "cell_type": "code",
   "execution_count": 1,
   "id": "8e3f1c9f",
   "metadata": {},
   "outputs": [
    {
     "name": "stdout",
     "output_type": "stream",
     "text": [
      "I am revising python from scratch again\n"
     ]
    }
   ],
   "source": [
    "# Printing the first line of code\n",
    "print(\"I am revising python from scratch again\")\n",
    "\n",
    "# Print is an inbuilt function that is used to print whatever is stored in brackets"
   ]
  },
  {
   "cell_type": "code",
   "execution_count": 5,
   "id": "e4aa1bf1",
   "metadata": {},
   "outputs": [],
   "source": [
    "# Has is used to comment and anything after hash won't be compiled or executed"
   ]
  },
  {
   "cell_type": "code",
   "execution_count": 8,
   "id": "ff0f4d82",
   "metadata": {},
   "outputs": [
    {
     "data": {
      "text/plain": [
       "' If you have something long that can\\nfill in multiple lines so\\nby using a pair of these ()\\nwe can write a multi-line comment '"
      ]
     },
     "execution_count": 8,
     "metadata": {},
     "output_type": "execute_result"
    }
   ],
   "source": [
    "''' If you have something long that can\n",
    "fill in multiple lines so\n",
    "by using a pair of these ('''  ''')\n",
    "we can write a multi-line comment '''"
   ]
  },
  {
   "cell_type": "markdown",
   "id": "1c659add",
   "metadata": {},
   "source": [
    "## 3. Variables and Data Types "
   ]
  },
  {
   "cell_type": "code",
   "execution_count": 10,
   "id": "61a2ccf6",
   "metadata": {},
   "outputs": [],
   "source": [
    "# Variables are just placeholders for values, programmers use them to store values not only numbers but whole objects too\n",
    "\n",
    "# There are various data types \n",
    "# 1. Numerical: Integer, Float and Complex\n",
    "# 2. Strings: This is used to store a sequence of characters basically some texts \n",
    "# 3. Booleans: True or False\n",
    "# 4. Sequences: List, Tuple and Dictionaries"
   ]
  },
  {
   "cell_type": "code",
   "execution_count": 11,
   "id": "0454aa6c",
   "metadata": {},
   "outputs": [],
   "source": [
    "# Integer can be called using keyword 'int' and can store whole numbers.\n",
    "# Float can be called using keyword 'float' and can store floating point numbers.\n",
    "# Complex can be called using 'complex' and can store a complex number."
   ]
  },
  {
   "cell_type": "code",
   "execution_count": 12,
   "id": "46f18b03",
   "metadata": {},
   "outputs": [],
   "source": [
    "# The keyword for strings is 'str' and the text must be stored in quotation marks ''.\n",
    "# Booleans are the simple data types in python, it can only have one of two values 'true' or 'false'."
   ]
  },
  {
   "cell_type": "code",
   "execution_count": 13,
   "id": "c2c4a121",
   "metadata": {},
   "outputs": [],
   "source": [
    "# There are three types of sequences \n",
    "\n",
    "# 1. List can be called using keyword 'list' and can store a collection of values.\n",
    "# 2. Tuple can be called using keyword 'tuple' and can be a immutable list.\n",
    "# 3. Dictionary can be called using 'dict' and can be used to store a list of key-value pairs."
   ]
  },
  {
   "cell_type": "markdown",
   "id": "b87341c9-1c84-4194-b225-8ec9fce05b5e",
   "metadata": {},
   "source": [
    "### Creating Variables and using them"
   ]
  },
  {
   "cell_type": "code",
   "execution_count": 3,
   "id": "91345f12-8054-43ca-a98b-bd30ad4ba444",
   "metadata": {},
   "outputs": [
    {
     "name": "stdout",
     "output_type": "stream",
     "text": [
      "10\n",
      "Hello\n"
     ]
    }
   ],
   "source": [
    "# Creating variables\n",
    "myNumber = 10\n",
    "myText = \"Hello\"\n",
    "\n",
    "# Using variables\n",
    "print(myNumber)\n",
    "print(myText)"
   ]
  },
  {
   "cell_type": "code",
   "execution_count": 8,
   "id": "2ad40d1b-aea4-49ee-befc-daaef1eb0b6d",
   "metadata": {},
   "outputs": [
    {
     "name": "stdout",
     "output_type": "stream",
     "text": [
      "<class 'str'>\n",
      "<class 'int'>\n"
     ]
    }
   ],
   "source": [
    "# Typecasting\n",
    "# This is the concept of converting a variable of one datatype to another datatype to make it usable is called typecasting.\n",
    "\n",
    "value = \"10\"\n",
    "number = int(value)\n",
    "print(type(value))\n",
    "print(type(number))"
   ]
  },
  {
   "cell_type": "markdown",
   "id": "38bd9aa1-5101-4935-b1d8-aeb3cb94d769",
   "metadata": {},
   "source": [
    "## 4. Operators "
   ]
  },
  {
   "cell_type": "code",
   "execution_count": 9,
   "id": "251d5b0c-725b-434d-89f5-c77044ae1dea",
   "metadata": {},
   "outputs": [],
   "source": [
    "# Operators are generally used to manage variables and perform operations on them. There are many types of operators that are used to perform operations:\n",
    "# 1. Arithmetic Operators\n",
    "# 2. Assignment Operators\n",
    "# 3. Comparison Operators\n",
    "# 4. Logical Operators\n",
    "# 5. Other Operators"
   ]
  },
  {
   "cell_type": "markdown",
   "id": "413b525a-e002-42b5-994c-39fab1e91234",
   "metadata": {},
   "source": [
    "### Arithmetic Operators "
   ]
  },
  {
   "cell_type": "code",
   "execution_count": 11,
   "id": "4b52ba4e-7fb1-4ed4-a570-ea65b55d6b08",
   "metadata": {},
   "outputs": [
    {
     "data": {
      "text/plain": [
       "5"
      ]
     },
     "execution_count": 11,
     "metadata": {},
     "output_type": "execute_result"
    }
   ],
   "source": [
    "2 + 3 # Addition"
   ]
  },
  {
   "cell_type": "code",
   "execution_count": 12,
   "id": "164c94af-ec03-4376-aa2c-e74fc1c1a1ee",
   "metadata": {},
   "outputs": [
    {
     "data": {
      "text/plain": [
       "5"
      ]
     },
     "execution_count": 12,
     "metadata": {},
     "output_type": "execute_result"
    }
   ],
   "source": [
    "7 - 2 # Subtraction"
   ]
  },
  {
   "cell_type": "code",
   "execution_count": 13,
   "id": "043f1b43-fa22-476e-9f3a-97ef448a424b",
   "metadata": {},
   "outputs": [
    {
     "data": {
      "text/plain": [
       "56"
      ]
     },
     "execution_count": 13,
     "metadata": {},
     "output_type": "execute_result"
    }
   ],
   "source": [
    "8 * 7 # Multiplication"
   ]
  },
  {
   "cell_type": "code",
   "execution_count": 14,
   "id": "f7438379-1388-4227-8d02-02bc5f9c25f0",
   "metadata": {},
   "outputs": [
    {
     "data": {
      "text/plain": [
       "3.0"
      ]
     },
     "execution_count": 14,
     "metadata": {},
     "output_type": "execute_result"
    }
   ],
   "source": [
    "9 / 3 # Division"
   ]
  },
  {
   "cell_type": "code",
   "execution_count": 15,
   "id": "0faa8035-1ddd-4eb4-9128-dee1620d6e39",
   "metadata": {},
   "outputs": [
    {
     "data": {
      "text/plain": [
       "1"
      ]
     },
     "execution_count": 15,
     "metadata": {},
     "output_type": "execute_result"
    }
   ],
   "source": [
    "5 % 2 # Modulus"
   ]
  },
  {
   "cell_type": "code",
   "execution_count": 16,
   "id": "8c1f8aeb-a4d3-49c9-9f97-dc93eaedf763",
   "metadata": {},
   "outputs": [
    {
     "data": {
      "text/plain": [
       "16"
      ]
     },
     "execution_count": 16,
     "metadata": {},
     "output_type": "execute_result"
    }
   ],
   "source": [
    "2 ** 4 # Exponent"
   ]
  },
  {
   "cell_type": "code",
   "execution_count": 17,
   "id": "3a9ea3e0-d50c-4af7-8d4a-c38486aa8ff6",
   "metadata": {},
   "outputs": [
    {
     "data": {
      "text/plain": [
       "4"
      ]
     },
     "execution_count": 17,
     "metadata": {},
     "output_type": "execute_result"
    }
   ],
   "source": [
    "18 // 4 # Rounds off decimals"
   ]
  },
  {
   "cell_type": "markdown",
   "id": "659c520f-316e-48b3-a51c-060bf0b02ac4",
   "metadata": {},
   "source": [
    "### Assignment Operators "
   ]
  },
  {
   "cell_type": "code",
   "execution_count": 24,
   "id": "983a2855-5ca7-47de-a256-505c4de1e627",
   "metadata": {},
   "outputs": [
    {
     "data": {
      "text/plain": [
       "10"
      ]
     },
     "execution_count": 24,
     "metadata": {},
     "output_type": "execute_result"
    }
   ],
   "source": [
    "a = 10 # Assigning a value to a variable\n",
    "a"
   ]
  },
  {
   "cell_type": "code",
   "execution_count": 25,
   "id": "ffd01002-7c7c-4e38-9f2b-8553890a7e10",
   "metadata": {},
   "outputs": [
    {
     "data": {
      "text/plain": [
       "20"
      ]
     },
     "execution_count": 25,
     "metadata": {},
     "output_type": "execute_result"
    }
   ],
   "source": [
    "a += 10 # This is the same as a = a + 10\n",
    "a"
   ]
  },
  {
   "cell_type": "code",
   "execution_count": 26,
   "id": "86a4aee9-2037-4bc0-8c84-262d5a7eec58",
   "metadata": {},
   "outputs": [
    {
     "data": {
      "text/plain": [
       "10"
      ]
     },
     "execution_count": 26,
     "metadata": {},
     "output_type": "execute_result"
    }
   ],
   "source": [
    "a -= 10 # This is the same as a = a - 10\n",
    "a"
   ]
  },
  {
   "cell_type": "code",
   "execution_count": 27,
   "id": "ebf3d0b5-241f-407c-8138-d881280f81be",
   "metadata": {},
   "outputs": [
    {
     "data": {
      "text/plain": [
       "100"
      ]
     },
     "execution_count": 27,
     "metadata": {},
     "output_type": "execute_result"
    }
   ],
   "source": [
    "a *= 10 # value of a is multiplied by 10 a = a * 10\n",
    "a"
   ]
  },
  {
   "cell_type": "code",
   "execution_count": 28,
   "id": "18d89411-beba-430f-97cd-1e649933e6a5",
   "metadata": {},
   "outputs": [
    {
     "data": {
      "text/plain": [
       "10.0"
      ]
     },
     "execution_count": 28,
     "metadata": {},
     "output_type": "execute_result"
    }
   ],
   "source": [
    "a /= 10 # value of a is divided by 10 a = a /10\n",
    "a"
   ]
  },
  {
   "cell_type": "code",
   "execution_count": 29,
   "id": "d867a8b4-0d22-4834-b4c8-f05be0416315",
   "metadata": {},
   "outputs": [
    {
     "data": {
      "text/plain": [
       "0.0"
      ]
     },
     "execution_count": 29,
     "metadata": {},
     "output_type": "execute_result"
    }
   ],
   "source": [
    "a %= 2 # Remainder of a divided by 2 is assigned to a\n",
    "a"
   ]
  },
  {
   "cell_type": "code",
   "execution_count": 31,
   "id": "c9bff56f-46e0-44e6-9dbb-20982ae7cd2c",
   "metadata": {},
   "outputs": [
    {
     "data": {
      "text/plain": [
       "100"
      ]
     },
     "execution_count": 31,
     "metadata": {},
     "output_type": "execute_result"
    }
   ],
   "source": [
    "a = 10\n",
    "a **= 2 # a is the base and the exponent value is 2 so the value of a is squared\n",
    "a"
   ]
  },
  {
   "cell_type": "code",
   "execution_count": 32,
   "id": "4716a6d8-abaa-45f2-badb-859e7e005a0d",
   "metadata": {},
   "outputs": [
    {
     "data": {
      "text/plain": [
       "33"
      ]
     },
     "execution_count": 32,
     "metadata": {},
     "output_type": "execute_result"
    }
   ],
   "source": [
    "a //= 3 # The decimal values is removed and the ones value is stored in a after the previous value gets divided by 3\n",
    "a"
   ]
  },
  {
   "cell_type": "markdown",
   "id": "ab0d174b-8b5f-4116-b946-4c48f030bc0a",
   "metadata": {},
   "source": [
    "### Comparison Operators"
   ]
  },
  {
   "cell_type": "code",
   "execution_count": 4,
   "id": "f754c596-13c0-4a1d-8622-f54f890ec5c7",
   "metadata": {},
   "outputs": [
    {
     "data": {
      "text/plain": [
       "True"
      ]
     },
     "execution_count": 4,
     "metadata": {},
     "output_type": "execute_result"
    }
   ],
   "source": [
    "# Equal operator\n",
    "10 == 10\n",
    "\n",
    "# When we compare it with different numbers it just returns a boolean value"
   ]
  },
  {
   "cell_type": "code",
   "execution_count": 5,
   "id": "d533e62e-d146-422c-87e9-5f8ac5111617",
   "metadata": {},
   "outputs": [
    {
     "data": {
      "text/plain": [
       "True"
      ]
     },
     "execution_count": 5,
     "metadata": {},
     "output_type": "execute_result"
    }
   ],
   "source": [
    "# Not equal \n",
    "20 != 10"
   ]
  },
  {
   "cell_type": "code",
   "execution_count": 6,
   "id": "c7c5d070-8914-43dc-9b09-c6dba3f1e9db",
   "metadata": {},
   "outputs": [
    {
     "data": {
      "text/plain": [
       "True"
      ]
     },
     "execution_count": 6,
     "metadata": {},
     "output_type": "execute_result"
    }
   ],
   "source": [
    "# Greater Than\n",
    "30 > 10"
   ]
  },
  {
   "cell_type": "code",
   "execution_count": 7,
   "id": "ea727ed7-529b-484d-81d9-6d0a0d63d4ae",
   "metadata": {},
   "outputs": [
    {
     "data": {
      "text/plain": [
       "True"
      ]
     },
     "execution_count": 7,
     "metadata": {},
     "output_type": "execute_result"
    }
   ],
   "source": [
    "# Less Than\n",
    "10 < 20"
   ]
  },
  {
   "cell_type": "code",
   "execution_count": 8,
   "id": "e9492acd-0a86-4724-9843-9e54c8c63418",
   "metadata": {},
   "outputs": [
    {
     "data": {
      "text/plain": [
       "True"
      ]
     },
     "execution_count": 8,
     "metadata": {},
     "output_type": "execute_result"
    }
   ],
   "source": [
    "# Greater than or equal\n",
    "30 >= 29 "
   ]
  },
  {
   "cell_type": "code",
   "execution_count": 9,
   "id": "c21a8f05-5bc5-4ae7-ae26-4f1758e29a10",
   "metadata": {},
   "outputs": [
    {
     "data": {
      "text/plain": [
       "True"
      ]
     },
     "execution_count": 9,
     "metadata": {},
     "output_type": "execute_result"
    }
   ],
   "source": [
    "# Less than or equal\n",
    "25 <= 30"
   ]
  },
  {
   "cell_type": "markdown",
   "id": "48e0d33f-0efc-477e-84c2-f0f0ddea1397",
   "metadata": {},
   "source": [
    "### Logical Operators"
   ]
  },
  {
   "cell_type": "code",
   "execution_count": 11,
   "id": "ad381d61-f9ac-4ec7-993a-96cbdcb67eec",
   "metadata": {},
   "outputs": [
    {
     "data": {
      "text/plain": [
       "True"
      ]
     },
     "execution_count": 11,
     "metadata": {},
     "output_type": "execute_result"
    }
   ],
   "source": [
    "# Logical operators are used to combine or connect booleans or comparisions\n",
    "# OR operator\n",
    "True or True"
   ]
  },
  {
   "cell_type": "code",
   "execution_count": 12,
   "id": "d0020fb9-1020-4f10-840c-2bb5bd636494",
   "metadata": {},
   "outputs": [
    {
     "name": "stdout",
     "output_type": "stream",
     "text": [
      "True\n"
     ]
    }
   ],
   "source": [
    "print(True or False)"
   ]
  },
  {
   "cell_type": "code",
   "execution_count": 13,
   "id": "959321e3-1282-440d-a2b0-73a6aad26dd5",
   "metadata": {},
   "outputs": [
    {
     "data": {
      "text/plain": [
       "False"
      ]
     },
     "execution_count": 13,
     "metadata": {},
     "output_type": "execute_result"
    }
   ],
   "source": [
    "# AND operator\n",
    "True and False"
   ]
  },
  {
   "cell_type": "code",
   "execution_count": 14,
   "id": "186793dd-786a-45ca-968e-3f39b117e19a",
   "metadata": {},
   "outputs": [
    {
     "data": {
      "text/plain": [
       "False"
      ]
     },
     "execution_count": 14,
     "metadata": {},
     "output_type": "execute_result"
    }
   ],
   "source": [
    "False and False"
   ]
  },
  {
   "cell_type": "code",
   "execution_count": 15,
   "id": "146114ed-b4ed-4bfb-80a5-b685d43e18d9",
   "metadata": {},
   "outputs": [
    {
     "data": {
      "text/plain": [
       "False"
      ]
     },
     "execution_count": 15,
     "metadata": {},
     "output_type": "execute_result"
    }
   ],
   "source": [
    "# Not Operator\n",
    "not True"
   ]
  },
  {
   "cell_type": "code",
   "execution_count": 16,
   "id": "c472e243-395e-478f-ab74-273f4ff8aead",
   "metadata": {},
   "outputs": [
    {
     "data": {
      "text/plain": [
       "True"
      ]
     },
     "execution_count": 16,
     "metadata": {},
     "output_type": "execute_result"
    }
   ],
   "source": [
    "not False"
   ]
  },
  {
   "cell_type": "markdown",
   "id": "2f1910ee-dca9-4afb-a331-b6122b1d6b75",
   "metadata": {},
   "source": [
    "## 5. User Input  "
   ]
  },
  {
   "cell_type": "code",
   "execution_count": 19,
   "id": "b04b24f8-df1f-46a9-b9e5-b84a9bd3ec0a",
   "metadata": {},
   "outputs": [
    {
     "name": "stdin",
     "output_type": "stream",
     "text": [
      "Please enter your name:  Abhijith\n"
     ]
    },
    {
     "name": "stdout",
     "output_type": "stream",
     "text": [
      "Hello  Abhijith\n"
     ]
    }
   ],
   "source": [
    "# This is used to take input from the user and then run the script\n",
    "name = input(\"Please enter your name: \")\n",
    "print(\"Hello \",name)"
   ]
  },
  {
   "cell_type": "code",
   "execution_count": 23,
   "id": "e369b96a-1c15-49a9-ba07-37224bfa4465",
   "metadata": {},
   "outputs": [
    {
     "name": "stdin",
     "output_type": "stream",
     "text": [
      "Enter the first number:  2\n",
      "Enter the second number:  3\n"
     ]
    },
    {
     "name": "stdout",
     "output_type": "stream",
     "text": [
      "Result:  23\n"
     ]
    }
   ],
   "source": [
    "# Addition of two numbers from user input\n",
    "n1 = input(\"Enter the first number: \")\n",
    "n2 = input(\"Enter the second number: \")\n",
    "sum = n1 + n2\n",
    "print(\"Result: \",sum)"
   ]
  },
  {
   "cell_type": "code",
   "execution_count": 24,
   "id": "5b9c55c8-2da2-45f6-8aae-1992d2877f10",
   "metadata": {},
   "outputs": [
    {
     "name": "stdin",
     "output_type": "stream",
     "text": [
      "Enter the first number:  2\n",
      "Enter the second number:  3\n"
     ]
    },
    {
     "name": "stdout",
     "output_type": "stream",
     "text": [
      "Result:  5\n"
     ]
    }
   ],
   "source": [
    "# We got this error because the values that are entered as taken as string and the compiler concatenates them, \n",
    "# so we need to ensure that the input is typecasted so the code would be\n",
    "n1 = int(input(\"Enter the first number: \"))\n",
    "n2 = int(input(\"Enter the second number: \"))\n",
    "sum = n1 + n2\n",
    "print(\"Result: \",sum)"
   ]
  },
  {
   "cell_type": "markdown",
   "id": "ba8a64b5-5125-4529-b8e7-19b886b966e9",
   "metadata": {},
   "source": [
    "## 6. Conditions "
   ]
  },
  {
   "cell_type": "markdown",
   "id": "deb367f9-9db4-44dc-bae3-705fc698d76b",
   "metadata": {},
   "source": [
    "### IF, ELIF and ELSE "
   ]
  },
  {
   "cell_type": "code",
   "execution_count": 27,
   "id": "8b652293-f8b3-41c4-b8fe-79352c04da43",
   "metadata": {},
   "outputs": [
    {
     "name": "stdin",
     "output_type": "stream",
     "text": [
      "Enter the gender as M, F or O: Q\n"
     ]
    },
    {
     "name": "stdout",
     "output_type": "stream",
     "text": [
      "Enter a valid input\n"
     ]
    }
   ],
   "source": [
    "# Till now, the compiler only executed one command at a time but if we want to execute multiple lines at once then we can use this.\n",
    "gender = input(\"Enter the gender as M, F or O:\")\n",
    "\n",
    "if gender == 'M':\n",
    "    print(\"You are Male\")\n",
    "elif gender == 'F':\n",
    "    print(\"You are Female\")\n",
    "elif gender == 'O':\n",
    "    print(\"You are from LGBTQ community\")\n",
    "else:\n",
    "    print(\"Enter a valid input\")"
   ]
  },
  {
   "cell_type": "markdown",
   "id": "f3ba8f8e-2635-4eb3-8c08-246227b64c2c",
   "metadata": {},
   "source": [
    "### Nested IF statements "
   ]
  },
  {
   "cell_type": "code",
   "execution_count": 32,
   "id": "74c6420f-e556-4371-8d95-22ea564017b7",
   "metadata": {},
   "outputs": [
    {
     "name": "stdout",
     "output_type": "stream",
     "text": [
      "BE PROUD OF YOUR SEXUALITY AND TYPE THE INPUT IN CAPS\n"
     ]
    },
    {
     "name": "stdin",
     "output_type": "stream",
     "text": [
      "Enter the gender in choices M,F and O L,G,B,T and Q O\n",
      "Enter the community B\n"
     ]
    },
    {
     "name": "stdout",
     "output_type": "stream",
     "text": [
      "You are bisexual\n"
     ]
    }
   ],
   "source": [
    "# This is used to put multiple if-blocks into if-blocks\n",
    "\n",
    "print(\"BE PROUD OF YOUR SEXUALITY AND TYPE THE INPUT IN CAPS\")\n",
    "gender = input(\"Enter the gender in choices M,F and O L,G,B,T and Q\")\n",
    "\n",
    "if gender == 'O':\n",
    "    other_gender = input(\"Enter the community\")\n",
    "    \n",
    "    if other_gender == 'L':\n",
    "        print(\"You are a lesbian\")\n",
    "        \n",
    "    elif other_gender == 'G':\n",
    "        print(\"You are gay\")\n",
    "        \n",
    "    elif other_gender == 'B':\n",
    "        print(\"You are bisexual\")\n",
    "        \n",
    "    elif other_gender == 'T':\n",
    "        print(\"You are Transgender\")\n",
    "        \n",
    "    elif other_gender == 'Q':\n",
    "        print(\"You are a queer\")\n",
    "     \n",
    "    else:\n",
    "        print(\"System doesn't recognize the community, our team will be in touch!\")\n",
    "\n",
    "elif gender == 'M':\n",
    "    print(\"You are Male\")\n",
    "    \n",
    "elif gender == 'F':\n",
    "    print(\"You are Female\")\n",
    "    \n",
    "else:\n",
    "    print(\"Enter a valid input\")"
   ]
  },
  {
   "cell_type": "markdown",
   "id": "67a5b13b-d797-4ee3-8a08-63bb85210b2c",
   "metadata": {},
   "source": [
    "## 7. Loops "
   ]
  },
  {
   "cell_type": "code",
   "execution_count": 33,
   "id": "6c6b0416-9132-44b8-89ef-3408e5aac980",
   "metadata": {},
   "outputs": [
    {
     "name": "stdout",
     "output_type": "stream",
     "text": [
      "1\n",
      "2\n",
      "3\n",
      "4\n",
      "5\n",
      "6\n",
      "7\n",
      "8\n",
      "9\n",
      "10\n"
     ]
    }
   ],
   "source": [
    "# If the process has to be repeated until some criteria has to be met then running a loop would make sense\n",
    "# There are two types of loops and those are while and for loops, below is the example of while loop\n",
    "number = 0 \n",
    "while number < 10:\n",
    "    number += 1\n",
    "    print(number)"
   ]
  },
  {
   "cell_type": "code",
   "execution_count": 34,
   "id": "3f6d6cd3-a80b-471d-9c50-81043a0a2f41",
   "metadata": {},
   "outputs": [],
   "source": [
    "# In the above piece of code the value is initialized to zero and in every iteration the value is increased.\n",
    "# This is done as long as the number is less than 10.\n",
    "# There is a concept called endless loop as long as the condition is true it goes on printing "
   ]
  },
  {
   "cell_type": "code",
   "execution_count": 35,
   "id": "1f5e7e44-560c-4e92-a41e-0762b87b873f",
   "metadata": {},
   "outputs": [
    {
     "name": "stdout",
     "output_type": "stream",
     "text": [
      "40\n",
      "10\n",
      "20\n",
      "30\n"
     ]
    }
   ],
   "source": [
    "# For loop\n",
    "# This is used to iterate over sequences, we use for keyword to iterate over it.\n",
    "# The control variable number gets assigned the value of next element\n",
    "numbers = {10,20,30,40}\n",
    "for number in numbers:\n",
    "    print(number)"
   ]
  },
  {
   "cell_type": "code",
   "execution_count": 37,
   "id": "4b5b14e3-e510-4134-a1c6-8a5524053602",
   "metadata": {},
   "outputs": [
    {
     "name": "stdout",
     "output_type": "stream",
     "text": [
      "0\n",
      "1\n",
      "2\n",
      "3\n",
      "4\n",
      "5\n",
      "6\n",
      "7\n",
      "8\n",
      "9\n",
      "10\n",
      "11\n",
      "12\n",
      "13\n",
      "14\n",
      "15\n",
      "16\n",
      "17\n",
      "18\n",
      "19\n",
      "20\n",
      "21\n",
      "22\n",
      "23\n",
      "24\n",
      "25\n",
      "26\n",
      "27\n",
      "28\n",
      "29\n",
      "30\n",
      "31\n",
      "32\n",
      "33\n",
      "34\n",
      "35\n",
      "36\n",
      "37\n",
      "38\n",
      "39\n",
      "40\n",
      "41\n",
      "42\n",
      "43\n",
      "44\n",
      "45\n",
      "46\n",
      "47\n",
      "48\n",
      "49\n",
      "50\n",
      "51\n",
      "52\n",
      "53\n",
      "54\n",
      "55\n",
      "56\n",
      "57\n",
      "58\n",
      "59\n",
      "60\n",
      "61\n",
      "62\n",
      "63\n",
      "64\n",
      "65\n",
      "66\n",
      "67\n",
      "68\n",
      "69\n",
      "70\n",
      "71\n",
      "72\n",
      "73\n",
      "74\n",
      "75\n",
      "76\n",
      "77\n",
      "78\n",
      "79\n",
      "80\n",
      "81\n",
      "82\n",
      "83\n",
      "84\n",
      "85\n",
      "86\n",
      "87\n",
      "88\n",
      "89\n",
      "90\n",
      "91\n",
      "92\n",
      "93\n",
      "94\n",
      "95\n",
      "96\n",
      "97\n",
      "98\n",
      "99\n"
     ]
    }
   ],
   "source": [
    "# Range function\n",
    "# Usually there are are 2 points starting and ending are needed to be given but the default is 0.\n",
    "for x in range(100):\n",
    "    print(x)"
   ]
  },
  {
   "cell_type": "code",
   "execution_count": 38,
   "id": "a8d5d757-d80c-4c85-9ee2-cbfb75ce5c44",
   "metadata": {},
   "outputs": [
    {
     "name": "stdout",
     "output_type": "stream",
     "text": [
      "20\n",
      "21\n",
      "22\n",
      "23\n",
      "24\n",
      "25\n",
      "26\n",
      "27\n",
      "28\n",
      "29\n",
      "30\n",
      "31\n",
      "32\n",
      "33\n",
      "34\n",
      "35\n",
      "36\n",
      "37\n",
      "38\n",
      "39\n",
      "40\n",
      "41\n",
      "42\n",
      "43\n",
      "44\n",
      "45\n",
      "46\n",
      "47\n",
      "48\n",
      "49\n",
      "50\n",
      "51\n",
      "52\n",
      "53\n",
      "54\n",
      "55\n",
      "56\n",
      "57\n",
      "58\n",
      "59\n",
      "60\n",
      "61\n",
      "62\n",
      "63\n",
      "64\n",
      "65\n",
      "66\n",
      "67\n",
      "68\n",
      "69\n",
      "70\n",
      "71\n",
      "72\n",
      "73\n",
      "74\n",
      "75\n",
      "76\n",
      "77\n",
      "78\n",
      "79\n"
     ]
    }
   ],
   "source": [
    "for x in range(20,80):\n",
    "    print(x)"
   ]
  },
  {
   "cell_type": "code",
   "execution_count": 41,
   "id": "f3b768f4-fe2e-4a51-a2b6-26ea4855491d",
   "metadata": {},
   "outputs": [
    {
     "name": "stdout",
     "output_type": "stream",
     "text": [
      "5\n"
     ]
    }
   ],
   "source": [
    "# Break statement\n",
    "# This is used to adjust the flow of the loop and end it without worrying about the condition\n",
    "number = 0\n",
    "while number < 10:\n",
    "    number += 1\n",
    "    if number == 5:\n",
    "        break\n",
    "print(number)    "
   ]
  },
  {
   "cell_type": "code",
   "execution_count": 43,
   "id": "61c4791b-b5c0-43c2-9cdb-6fc17434337d",
   "metadata": {},
   "outputs": [
    {
     "name": "stdout",
     "output_type": "stream",
     "text": [
      "7\n"
     ]
    }
   ],
   "source": [
    "# We can use continue to skip a condition and then let the loop running\n",
    "number = 0\n",
    "while number < 10:\n",
    "    number += 1\n",
    "    if number == 5:\n",
    "        continue\n",
    "    elif number == 7:\n",
    "        break\n",
    "print(number)        "
   ]
  },
  {
   "cell_type": "markdown",
   "id": "550631b1-9b3a-4cb9-ae74-1d2b34952f30",
   "metadata": {},
   "source": [
    "## 8. Sequences "
   ]
  },
  {
   "cell_type": "code",
   "execution_count": 44,
   "id": "30fd2281-c169-49f7-b8b7-7f32b93c4be6",
   "metadata": {},
   "outputs": [],
   "source": [
    "# The sequence is the most basic data structure in python, they have multiple elements and they are indexed with a specific number\n",
    "# There are mainly three types of sequences lists, tuples and dictionaries\n",
    "# Lists\n",
    "a = [1,2,3,4,5] # Integer list\n",
    "b = [\"Abhi\",\"Bhargav\",\"Phani\"] # String list\n",
    "c = [\"Abhi\", 1, 2.22, \"Bhargav\", True] # Mixed list"
   ]
  },
  {
   "cell_type": "code",
   "execution_count": 45,
   "id": "9a7e2b3b-f30d-419b-b525-11efb331e341",
   "metadata": {},
   "outputs": [
    {
     "name": "stdout",
     "output_type": "stream",
     "text": [
      "3\n",
      "Phani\n",
      "Abhi\n"
     ]
    }
   ],
   "source": [
    "# Inorder to access the elements of a sequence we can do it by:\n",
    "print(a[2]) # Mention the index number of a sequence with a square bracket\n",
    "print(b[2]) \n",
    "print(c[0])"
   ]
  },
  {
   "cell_type": "code",
   "execution_count": 47,
   "id": "579d39df-10d4-4f07-8f09-98cded117e0c",
   "metadata": {},
   "outputs": [
    {
     "name": "stdout",
     "output_type": "stream",
     "text": [
      "[1, 2, 3, 4]\n",
      "[1, 2, 3]\n"
     ]
    }
   ],
   "source": [
    "# We can also print a range of elements in a list\n",
    "print(a[0:4])\n",
    "print(a[:3]) # If nothing is filled 0 is assigned by default"
   ]
  },
  {
   "cell_type": "code",
   "execution_count": 48,
   "id": "96506564-cc75-4353-90a8-b75ffc0a94e9",
   "metadata": {},
   "outputs": [
    {
     "data": {
      "text/plain": [
       "['Abhijith', 'Bhargav', 'Phani']"
      ]
     },
     "execution_count": 48,
     "metadata": {},
     "output_type": "execute_result"
    }
   ],
   "source": [
    "# We can modify the elements in a list by accessing their index\n",
    "b[0] = \"Abhijith\"\n",
    "b"
   ]
  },
  {
   "cell_type": "code",
   "execution_count": 49,
   "id": "e3570ef3-585e-431e-9c43-0cfcc444379c",
   "metadata": {},
   "outputs": [
    {
     "data": {
      "text/plain": [
       "[10, 20, 30, 40, 50, 60]"
      ]
     },
     "execution_count": 49,
     "metadata": {},
     "output_type": "execute_result"
    }
   ],
   "source": [
    "# We can do some aritmetic operations using list\n",
    "[10,20,30]+[40,50,60]"
   ]
  },
  {
   "cell_type": "code",
   "execution_count": 50,
   "id": "af8f95e7-60c1-469b-b352-db0615836fd0",
   "metadata": {},
   "outputs": [
    {
     "data": {
      "text/plain": [
       "[10, 'Messi', 10, 'Messi', 10, 'Messi']"
      ]
     },
     "execution_count": 50,
     "metadata": {},
     "output_type": "execute_result"
    }
   ],
   "source": [
    "[10,\"Messi\"]*3"
   ]
  },
  {
   "cell_type": "code",
   "execution_count": 61,
   "id": "9dc70c00-517a-497a-b733-45a40b34423b",
   "metadata": {},
   "outputs": [],
   "source": [
    "# There are some basic functions that are inbuilt for list\n",
    "c = [1,2,3,4,5,6,7,8]"
   ]
  },
  {
   "cell_type": "code",
   "execution_count": 62,
   "id": "a8dd1fdc-9223-4682-86e4-999067db5648",
   "metadata": {},
   "outputs": [
    {
     "name": "stdout",
     "output_type": "stream",
     "text": [
      "8\n",
      "8\n",
      "1\n"
     ]
    }
   ],
   "source": [
    "print(len(c)) # Length of the list\n",
    "print(max(c)) # Returns the maximum value\n",
    "print(min(c)) # Returns the minimum value"
   ]
  },
  {
   "cell_type": "code",
   "execution_count": 63,
   "id": "d0b6da5b-fc82-461e-a7c2-99da7a22dd08",
   "metadata": {},
   "outputs": [
    {
     "data": {
      "text/plain": [
       "[1, 2, 3, 4, 5, 6, 7, 8]"
      ]
     },
     "execution_count": 63,
     "metadata": {},
     "output_type": "execute_result"
    }
   ],
   "source": [
    "list(c)"
   ]
  },
  {
   "cell_type": "code",
   "execution_count": 64,
   "id": "24511baf-4149-416d-9874-23f687559785",
   "metadata": {},
   "outputs": [
    {
     "data": {
      "text/plain": [
       "[1, 2, 3, 4, 5, 6, 7, 8, 9]"
      ]
     },
     "execution_count": 64,
     "metadata": {},
     "output_type": "execute_result"
    }
   ],
   "source": [
    "# There are methods that can be used to get control over the list\n",
    "c.append(9)\n",
    "c"
   ]
  },
  {
   "cell_type": "code",
   "execution_count": 66,
   "id": "0267186a-f249-4ada-8b73-ce73c6d1aab0",
   "metadata": {},
   "outputs": [
    {
     "data": {
      "text/plain": [
       "[1, 2, 3, 4, 5, 6, 7, 8, 9, 0, 0]"
      ]
     },
     "execution_count": 66,
     "metadata": {},
     "output_type": "execute_result"
    }
   ],
   "source": [
    "c.append(0) # Adds a new element from the last\n",
    "c"
   ]
  },
  {
   "cell_type": "code",
   "execution_count": 68,
   "id": "e866ad87-6bd4-4270-8331-f1f6dabd8bdf",
   "metadata": {},
   "outputs": [
    {
     "data": {
      "text/plain": [
       "2"
      ]
     },
     "execution_count": 68,
     "metadata": {},
     "output_type": "execute_result"
    }
   ],
   "source": [
    "c.count(0) # 0 has repeated 2 times"
   ]
  },
  {
   "cell_type": "code",
   "execution_count": 70,
   "id": "2cffc996-cf26-4aad-8643-414d92da6bd5",
   "metadata": {},
   "outputs": [
    {
     "data": {
      "text/plain": [
       "5"
      ]
     },
     "execution_count": 70,
     "metadata": {},
     "output_type": "execute_result"
    }
   ],
   "source": [
    "c.index(6) # Returns the index at which the element occurs"
   ]
  },
  {
   "cell_type": "code",
   "execution_count": 71,
   "id": "56306002-fe49-4d42-ae85-90a33a2fedb9",
   "metadata": {},
   "outputs": [
    {
     "data": {
      "text/plain": [
       "[1, 2, 3, 4, 5, 6, 7, 8, 9, 0]"
      ]
     },
     "execution_count": 71,
     "metadata": {},
     "output_type": "execute_result"
    }
   ],
   "source": [
    "c.pop() # Removes the last element in the list\n",
    "c"
   ]
  },
  {
   "cell_type": "code",
   "execution_count": 72,
   "id": "b2b7e3ed-a726-4ad6-9707-023844e02959",
   "metadata": {},
   "outputs": [
    {
     "data": {
      "text/plain": [
       "[0, 9, 8, 7, 6, 5, 4, 3, 2, 1]"
      ]
     },
     "execution_count": 72,
     "metadata": {},
     "output_type": "execute_result"
    }
   ],
   "source": [
    "c.reverse() # Reverses the entire list\n",
    "c"
   ]
  },
  {
   "cell_type": "code",
   "execution_count": 73,
   "id": "06e137b7-dd99-47af-8a6d-a587882e104c",
   "metadata": {},
   "outputs": [
    {
     "data": {
      "text/plain": [
       "[0, 1, 2, 3, 4, 5, 6, 7, 8, 9]"
      ]
     },
     "execution_count": 73,
     "metadata": {},
     "output_type": "execute_result"
    }
   ],
   "source": [
    "c.sort() # Sorts the entire elements in the list\n",
    "c"
   ]
  },
  {
   "cell_type": "code",
   "execution_count": 74,
   "id": "8a2dc670-0ac4-462b-b8f9-ad803f93937b",
   "metadata": {},
   "outputs": [
    {
     "data": {
      "text/plain": [
       "tuple"
      ]
     },
     "execution_count": 74,
     "metadata": {},
     "output_type": "execute_result"
    }
   ],
   "source": [
    "# The next sequence that we can use is tuple, the only difference is that the tuple is immutable and we can't manipulate it\n",
    "# This is represented in normal brackets than square brackets\n",
    "d = (10,20,30)\n",
    "type(d)"
   ]
  },
  {
   "cell_type": "code",
   "execution_count": 75,
   "id": "4b5d9480-3952-4f26-80e6-ddd912d32169",
   "metadata": {},
   "outputs": [],
   "source": [
    "# len, min and max functions can be used and modigying functions cannot be used to because tuples are immutable."
   ]
  },
  {
   "cell_type": "code",
   "execution_count": 76,
   "id": "67db3920-6a81-4645-8efa-7e70679fe1a3",
   "metadata": {},
   "outputs": [
    {
     "data": {
      "text/plain": [
       "{'Name': 'Abhijith', 'Age': 23, 'Height': 5.9}"
      ]
     },
     "execution_count": 76,
     "metadata": {},
     "output_type": "execute_result"
    }
   ],
   "source": [
    "# Dictionary is the last type of sequence, they follow a concept of key value pairs, this is called has map in few of the programming languages.\n",
    "e = { \"Name\" : \"Abhijith\",\n",
    "     \"Age\" : 23,\n",
    "     \"Height\" : 5.9 }\n",
    "e"
   ]
  },
  {
   "cell_type": "code",
   "execution_count": 77,
   "id": "838d8eb6-a3e9-4f52-bef3-215330b54293",
   "metadata": {},
   "outputs": [
    {
     "name": "stdout",
     "output_type": "stream",
     "text": [
      "Abhijith\n",
      "23\n",
      "5.9\n"
     ]
    }
   ],
   "source": [
    "# To access the value of a string, we can do it by\n",
    "print(e[\"Name\"])\n",
    "print(e[\"Age\"])\n",
    "print(e[\"Height\"])"
   ]
  },
  {
   "cell_type": "code",
   "execution_count": 79,
   "id": "54a9e7f9-0e9f-41c0-840d-2c0bdf4b37b2",
   "metadata": {},
   "outputs": [
    {
     "name": "stdout",
     "output_type": "stream",
     "text": [
      "3\n",
      "{'Name': 'Abhijith', 'Age': 23, 'Height': 5.9}\n"
     ]
    }
   ],
   "source": [
    "# There are two functions for a dictionary\n",
    "print(len(e)) # Returns the length of a dictionary\n",
    "print(str(e)) # Returns the dictionary displayed as string"
   ]
  },
  {
   "cell_type": "code",
   "execution_count": 81,
   "id": "f88ef013-9ff9-453f-856c-16a058fccaad",
   "metadata": {},
   "outputs": [
    {
     "data": {
      "text/plain": [
       "dict_values(['Abhijith', 23, 5.9])"
      ]
     },
     "execution_count": 81,
     "metadata": {},
     "output_type": "execute_result"
    }
   ],
   "source": [
    "# There are several methods in a dictionary:\n",
    "e.values() # Returns the values in e"
   ]
  },
  {
   "cell_type": "code",
   "execution_count": 86,
   "id": "13e03979-8508-4b58-a695-a2b0c7d6aaf0",
   "metadata": {},
   "outputs": [
    {
     "data": {
      "text/plain": [
       "{'Name': 'Abhijith', 'Age': 23, 'Height': 5.9}"
      ]
     },
     "execution_count": 86,
     "metadata": {},
     "output_type": "execute_result"
    }
   ],
   "source": [
    "e.update()\n",
    "e"
   ]
  },
  {
   "cell_type": "code",
   "execution_count": 89,
   "id": "0fbcb8a2-655d-4db6-921f-76bb2f5bd074",
   "metadata": {},
   "outputs": [
    {
     "data": {
      "text/plain": [
       "dict_keys(['Name', 'Age', 'Height'])"
      ]
     },
     "execution_count": 89,
     "metadata": {},
     "output_type": "execute_result"
    }
   ],
   "source": [
    "e.keys() # Returns the keys"
   ]
  },
  {
   "cell_type": "code",
   "execution_count": 92,
   "id": "0810db3c-3139-40ba-9abf-086a8d846572",
   "metadata": {},
   "outputs": [
    {
     "data": {
      "text/plain": [
       "'Abhijith'"
      ]
     },
     "execution_count": 92,
     "metadata": {},
     "output_type": "execute_result"
    }
   ],
   "source": [
    "e.get(\"Name\") # Returns the value for that key"
   ]
  },
  {
   "cell_type": "code",
   "execution_count": 94,
   "id": "7c49ed94-661f-47be-b832-ce22f454f0bd",
   "metadata": {},
   "outputs": [
    {
     "data": {
      "text/plain": [
       "{'Name': 'Abhijith', 'Age': 23, 'Height': 5.9}"
      ]
     },
     "execution_count": 94,
     "metadata": {},
     "output_type": "execute_result"
    }
   ],
   "source": [
    "e.copy() # Returns a copy"
   ]
  },
  {
   "cell_type": "code",
   "execution_count": 97,
   "id": "1d8c989c-0d18-48a8-8650-aa34f77f4df5",
   "metadata": {},
   "outputs": [
    {
     "data": {
      "text/plain": [
       "{'N': None, 'a': None, 'm': None, 'e': None}"
      ]
     },
     "execution_count": 97,
     "metadata": {},
     "output_type": "execute_result"
    }
   ],
   "source": [
    "e.fromkeys('Name') # Returns a new dictionary with same keys and with some empty values"
   ]
  },
  {
   "cell_type": "code",
   "execution_count": 98,
   "id": "cb31cda2-38da-4d43-8aa8-f879a8cc8cfe",
   "metadata": {},
   "outputs": [
    {
     "data": {
      "text/plain": [
       "{'Name': 'Abhijith', 'Age': 23, 'Height': 5.9}"
      ]
     },
     "execution_count": 98,
     "metadata": {},
     "output_type": "execute_result"
    }
   ],
   "source": [
    "e"
   ]
  },
  {
   "cell_type": "code",
   "execution_count": 99,
   "id": "ae9f920d-2f77-4552-a70c-6df283eb6ec9",
   "metadata": {},
   "outputs": [
    {
     "data": {
      "text/plain": [
       "dict_items([('Name', 'Abhijith'), ('Age', 23), ('Height', 5.9)])"
      ]
     },
     "execution_count": 99,
     "metadata": {},
     "output_type": "execute_result"
    }
   ],
   "source": [
    "e.items() # Returns all the values in a tuple format "
   ]
  },
  {
   "cell_type": "code",
   "execution_count": 102,
   "id": "ed9fbd46-f487-45e9-a15a-2cc4158a7029",
   "metadata": {},
   "outputs": [
    {
     "data": {
      "text/plain": [
       "{}"
      ]
     },
     "execution_count": 102,
     "metadata": {},
     "output_type": "execute_result"
    }
   ],
   "source": [
    "e.clear() # Clears all elements in a dictionary\n",
    "e"
   ]
  },
  {
   "cell_type": "code",
   "execution_count": 103,
   "id": "a1215bcf-aa9e-467f-9472-68e8acaece98",
   "metadata": {},
   "outputs": [],
   "source": [
    "# Membership operator is used to check if an element is a member of sequence\n",
    "list = [10,20,30,40,50]"
   ]
  },
  {
   "cell_type": "code",
   "execution_count": 104,
   "id": "3db2808c-a9d5-4416-9391-f7f78e1abb82",
   "metadata": {},
   "outputs": [
    {
     "name": "stdout",
     "output_type": "stream",
     "text": [
      "True\n",
      "False\n",
      "True\n"
     ]
    }
   ],
   "source": [
    "print(20 in list)\n",
    "print(60 in list)\n",
    "print(70 not in list)"
   ]
  },
  {
   "cell_type": "code",
   "execution_count": 105,
   "id": "a3b7faa7-3021-477f-88a6-3a7aec7e89b0",
   "metadata": {},
   "outputs": [
    {
     "name": "stdout",
     "output_type": "stream",
     "text": [
      "10\n",
      "20\n",
      "30\n",
      "40\n",
      "50\n"
     ]
    }
   ],
   "source": [
    "# With in and not in operators, we check if a sequence contains certain elements, \n",
    "# if the element is in the list then it returns true\n",
    "# if the element is not in the list then it returns false\n",
    "\n",
    "for x in list:\n",
    "    print(x)"
   ]
  },
  {
   "cell_type": "markdown",
   "id": "4c335496-65f3-4821-b110-4691bfc83529",
   "metadata": {},
   "source": [
    "## 9. Functions "
   ]
  },
  {
   "cell_type": "code",
   "execution_count": 1,
   "id": "ed5b347e-efeb-4e5e-a2c3-f0fe95181591",
   "metadata": {},
   "outputs": [],
   "source": [
    "# Just like inbuilt functions like print, we can write our own functions that can be reused later.\n",
    "# Imagine if we had to write the code for print function everytime we would have to print something, that would be very tough. Functions can be seen as a blocks of organized code that we reuse at different places in our script.\n",
    "\n",
    "# Inorder to define a function in python we need to use \"def\" keyword with function name and parentheses. The code must be written with indentation after the column"
   ]
  },
  {
   "cell_type": "markdown",
   "id": "13eba1ea-d3d7-459c-908b-6c290b55c370",
   "metadata": {},
   "source": [
    "### Defining Functions"
   ]
  },
  {
   "cell_type": "code",
   "execution_count": 2,
   "id": "dfc2a51a-3d6b-4876-8700-0371321dc13c",
   "metadata": {},
   "outputs": [],
   "source": [
    "def hello():\n",
    "    print(\"Hello, how are you today?\")"
   ]
  },
  {
   "cell_type": "code",
   "execution_count": 3,
   "id": "3d002ec7-c787-4b6a-a58d-b79829fa89f5",
   "metadata": {},
   "outputs": [
    {
     "name": "stdout",
     "output_type": "stream",
     "text": [
      "Hello, how are you today?\n"
     ]
    }
   ],
   "source": [
    "hello()"
   ]
  },
  {
   "cell_type": "markdown",
   "id": "e76bf0a0-e24c-4052-8a7f-c10a39647b6a",
   "metadata": {},
   "source": [
    "### Parameters "
   ]
  },
  {
   "cell_type": "code",
   "execution_count": 7,
   "id": "6da7eae3-030b-4c36-8341-ef917e2e238d",
   "metadata": {},
   "outputs": [],
   "source": [
    "# We can make our functions more dynamic, we can define parameters and then can process it in the function code\n",
    "\n",
    "def greet(text = \"Hello \"+\"Good Morning\"):\n",
    "    print(text)"
   ]
  },
  {
   "cell_type": "code",
   "execution_count": 8,
   "id": "ba1f1dd5-c13a-48a8-a14b-9d9e3f71801d",
   "metadata": {},
   "outputs": [
    {
     "name": "stdout",
     "output_type": "stream",
     "text": [
      "Hello Good Morning\n"
     ]
    }
   ],
   "source": [
    "greet()"
   ]
  },
  {
   "cell_type": "code",
   "execution_count": 9,
   "id": "5f27d6ca-7169-4c7d-8710-aefbe13f1e58",
   "metadata": {},
   "outputs": [],
   "source": [
    "# We can do literally anything operation within the function as long as the code defining the function is proper\n",
    "def print_sum(number1, number2): # As we have allowed two paramaters so while calling the function the parameters must be filled\n",
    "    print(number1 + number2)"
   ]
  },
  {
   "cell_type": "code",
   "execution_count": 11,
   "id": "3d0dfa97-7876-4200-bc77-7d14766eaad0",
   "metadata": {},
   "outputs": [
    {
     "name": "stdout",
     "output_type": "stream",
     "text": [
      "7\n"
     ]
    }
   ],
   "source": [
    "print_sum(3,4)"
   ]
  },
  {
   "cell_type": "code",
   "execution_count": 12,
   "id": "0d087ff0-69df-4d84-8676-b0bd0b78206e",
   "metadata": {},
   "outputs": [
    {
     "name": "stdout",
     "output_type": "stream",
     "text": [
      "6.300000000000001\n"
     ]
    }
   ],
   "source": [
    "print_sum(3.1,3.2)"
   ]
  },
  {
   "cell_type": "markdown",
   "id": "5f695392-993e-4cfa-9f87-ad7f6d7878f9",
   "metadata": {},
   "source": [
    "### Return Values "
   ]
  },
  {
   "cell_type": "code",
   "execution_count": 13,
   "id": "aebad1d2-c8cb-48fd-be33-8aa86076dfd8",
   "metadata": {},
   "outputs": [],
   "source": [
    "# The above two functions we wrote were just executing the statements, we can return certain value using return statement and that can be saved in variable and it can be processed\n",
    "def add(number1, number2):\n",
    "    return number1 + number2"
   ]
  },
  {
   "cell_type": "code",
   "execution_count": 14,
   "id": "4bb7c21e-aa4d-4649-a0bf-d74f2ecd20a9",
   "metadata": {},
   "outputs": [
    {
     "name": "stdout",
     "output_type": "stream",
     "text": [
      "30\n"
     ]
    }
   ],
   "source": [
    "# Here we can use the sum of two parameters instead of printing it, but we can use the same result in the code.\n",
    "num3 = add(10,20)\n",
    "print(num3)"
   ]
  },
  {
   "cell_type": "markdown",
   "id": "53b28ab1-9d3a-4a87-b877-3a24a903f874",
   "metadata": {},
   "source": [
    "### Default Parameters "
   ]
  },
  {
   "cell_type": "code",
   "execution_count": 15,
   "id": "e2aa9a15-3896-4de9-96bc-242d98405e81",
   "metadata": {},
   "outputs": [],
   "source": [
    "# Sometimes these default values might help the user or us to get to the proper usage of the function, let's say if the input is not valid then the default parameter can be displayed that can act as a guide\n",
    "def say(text = \"Default Text\"):\n",
    "    print(text)"
   ]
  },
  {
   "cell_type": "code",
   "execution_count": 16,
   "id": "b4f55eb5-bf3c-46dc-9401-841f5c5d2c7f",
   "metadata": {},
   "outputs": [
    {
     "name": "stdout",
     "output_type": "stream",
     "text": [
      "Default Text\n"
     ]
    }
   ],
   "source": [
    "say()"
   ]
  },
  {
   "cell_type": "markdown",
   "id": "d7f2afd6-2d79-4e2f-996f-51ea62fe2f2e",
   "metadata": {},
   "source": [
    "### Variable Parameters "
   ]
  },
  {
   "cell_type": "code",
   "execution_count": 17,
   "id": "b33dbba6-17ee-43fe-bb03-a5d7fe502a72",
   "metadata": {},
   "outputs": [],
   "source": [
    "# Sometimes we want to have any amount of parameters in a function, we then treat the parameter as a sequence.\n",
    "def print_sum(*numbers): # * is used define a sequence\n",
    "    result = 0\n",
    "    \n",
    "    for x in numbers:\n",
    "        result += x\n",
    "    print(result)    "
   ]
  },
  {
   "cell_type": "code",
   "execution_count": 18,
   "id": "46c8ce97-b7fe-4670-a176-3a5d5ca79abd",
   "metadata": {},
   "outputs": [
    {
     "name": "stdout",
     "output_type": "stream",
     "text": [
      "36\n"
     ]
    }
   ],
   "source": [
    "print_sum(1,2,3,4,5,6,7,8)"
   ]
  },
  {
   "cell_type": "markdown",
   "id": "3be7fc94-5c43-42c6-8380-7d66fd194003",
   "metadata": {},
   "source": [
    "### Scopes "
   ]
  },
  {
   "cell_type": "code",
   "execution_count": 19,
   "id": "d2f7d860-2799-4ba2-9c1e-2a77cc8e85d4",
   "metadata": {},
   "outputs": [
    {
     "ename": "NameError",
     "evalue": "name 'number' is not defined",
     "output_type": "error",
     "traceback": [
      "\u001b[1;31m---------------------------------------------------------------------------\u001b[0m",
      "\u001b[1;31mNameError\u001b[0m                                 Traceback (most recent call last)",
      "\u001b[1;32m~\\AppData\\Local\\Temp\\ipykernel_12176\\990160146.py\u001b[0m in \u001b[0;36m<module>\u001b[1;34m\u001b[0m\n\u001b[0;32m      5\u001b[0m     \u001b[0mprint\u001b[0m\u001b[1;33m(\u001b[0m\u001b[0mnumber\u001b[0m\u001b[1;33m)\u001b[0m \u001b[1;31m# Function ends\u001b[0m\u001b[1;33m\u001b[0m\u001b[1;33m\u001b[0m\u001b[0m\n\u001b[0;32m      6\u001b[0m \u001b[1;33m\u001b[0m\u001b[0m\n\u001b[1;32m----> 7\u001b[1;33m \u001b[0mprint\u001b[0m\u001b[1;33m(\u001b[0m\u001b[0mnumber\u001b[0m\u001b[1;33m)\u001b[0m \u001b[1;31m# Statement outside the function won't work as number is defined within the statement\u001b[0m\u001b[1;33m\u001b[0m\u001b[1;33m\u001b[0m\u001b[0m\n\u001b[0m",
      "\u001b[1;31mNameError\u001b[0m: name 'number' is not defined"
     ]
    }
   ],
   "source": [
    "# A variable that is only available from inside the region it is created is called scope. There are two types of scope local and global.\n",
    "# Local Variable\n",
    "def function():\n",
    "    number = 10\n",
    "    print(number) # Function ends\n",
    "\n",
    "print(number) # Statement outside the function won't work as number is defined within the statement    "
   ]
  },
  {
   "cell_type": "code",
   "execution_count": 20,
   "id": "2a8d26ae-85cb-44b0-80a1-f380445f94b7",
   "metadata": {},
   "outputs": [
    {
     "name": "stdout",
     "output_type": "stream",
     "text": [
      "10\n",
      "10\n"
     ]
    }
   ],
   "source": [
    "# Global Variable\n",
    "number = 10 # Declared outside so it can be accessed\n",
    "\n",
    "def function():\n",
    "    print(number)\n",
    "    \n",
    "print(number) # Normal print statement\n",
    "function() # Accessing number from a defined function"
   ]
  },
  {
   "cell_type": "code",
   "execution_count": 21,
   "id": "33730dba-140b-401b-b35d-461c82df2fc3",
   "metadata": {},
   "outputs": [
    {
     "name": "stdout",
     "output_type": "stream",
     "text": [
      "20\n"
     ]
    }
   ],
   "source": [
    "# Inorder to manipulate a global variable within a function we can use keyword called global in a function\n",
    "number = 10\n",
    "\n",
    "def function():\n",
    "    global number\n",
    "    number += 10\n",
    "    print(number)\n",
    "\n",
    "function()    "
   ]
  },
  {
   "cell_type": "code",
   "execution_count": null,
   "id": "b0c95c75-7bbc-45d4-b1fc-7231b4182f74",
   "metadata": {},
   "outputs": [],
   "source": []
  }
 ],
 "metadata": {
  "kernelspec": {
   "display_name": "Python 3 (ipykernel)",
   "language": "python",
   "name": "python3"
  },
  "language_info": {
   "codemirror_mode": {
    "name": "ipython",
    "version": 3
   },
   "file_extension": ".py",
   "mimetype": "text/x-python",
   "name": "python",
   "nbconvert_exporter": "python",
   "pygments_lexer": "ipython3",
   "version": "3.9.13"
  }
 },
 "nbformat": 4,
 "nbformat_minor": 5
}
