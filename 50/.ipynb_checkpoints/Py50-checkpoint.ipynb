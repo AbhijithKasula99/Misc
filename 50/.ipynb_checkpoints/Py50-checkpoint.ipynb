{
 "cells": [
  {
   "cell_type": "markdown",
   "id": "a1ee7b15",
   "metadata": {},
   "source": [
    "# Python Challenge"
   ]
  },
  {
   "cell_type": "markdown",
   "id": "10c445a3",
   "metadata": {},
   "source": [
    "### Day 1 "
   ]
  },
  {
   "cell_type": "code",
   "execution_count": 1,
   "id": "759c688f",
   "metadata": {},
   "outputs": [
    {
     "name": "stdout",
     "output_type": "stream",
     "text": [
      "Hello, World!\n"
     ]
    }
   ],
   "source": [
    "# Use Case 1: Write a Python program that prints \"Hello, World!\" on the screen.\n",
    "print(\"Hello, World!\")"
   ]
  },
  {
   "cell_type": "code",
   "execution_count": 4,
   "id": "2a302eec",
   "metadata": {},
   "outputs": [
    {
     "name": "stdout",
     "output_type": "stream",
     "text": [
      "Enter your nameAbhijith\n",
      "Good Day Abhijith\n"
     ]
    }
   ],
   "source": [
    "# Use Case 2: Write a Python program that prompts the user for their name and then prints a personalized greeting.\n",
    "a = input(\"Enter your name\")\n",
    "print(\"Good Day\",a)"
   ]
  },
  {
   "cell_type": "markdown",
   "id": "01af95ef",
   "metadata": {},
   "source": [
    "### Day 2 "
   ]
  },
  {
   "cell_type": "code",
   "execution_count": 10,
   "id": "bfbb37ce",
   "metadata": {},
   "outputs": [
    {
     "name": "stdout",
     "output_type": "stream",
     "text": [
      "Enter first number: 3\n",
      "Enter second number: 5\n",
      "The sum of 3 and 5 is: 8\n"
     ]
    }
   ],
   "source": [
    "# Use Case 1: Write a Python program that accepts two numbers from the user and then calculates and prints their sum.\n",
    "a = int(input(\"Enter first number: \"))\n",
    "b = int(input(\"Enter second number: \")) # Int is very important here because deafult entry is string\n",
    "c = a + b\n",
    "print(\"The sum of\",a,\"and\",b,\"is:\",c)"
   ]
  },
  {
   "cell_type": "code",
   "execution_count": 12,
   "id": "7db6ae15",
   "metadata": {},
   "outputs": [
    {
     "name": "stdout",
     "output_type": "stream",
     "text": [
      "Enter the temperature in celsius: 23\n",
      "The temperature in celsius is 23 and it is 73.4 in fahrenheit\n"
     ]
    }
   ],
   "source": [
    "# Use Case 2: Write a Python program that accepts a temperature in Celsius and converts it to Fahrenheit.\n",
    "temp = int(input(\"Enter the temperature in celsius: \"))\n",
    "far = (temp * (9/5)) + 32\n",
    "print(\"The temperature in celsius is\",temp,\"and it is\",far,\"in fahrenheit\")"
   ]
  },
  {
   "cell_type": "markdown",
   "id": "b78eef90",
   "metadata": {},
   "source": [
    "### Day 3"
   ]
  },
  {
   "cell_type": "code",
   "execution_count": 16,
   "id": "086f2993",
   "metadata": {},
   "outputs": [
    {
     "name": "stdout",
     "output_type": "stream",
     "text": [
      "Abhijith Kasula\n"
     ]
    }
   ],
   "source": [
    "# Use Case 1: Write a Python program that reads a file and counts the number of words in it.\n",
    "from pathlib import Path # Pathlib is a module\n",
    "path = Path('name.txt')\n",
    "contents = path.read_text()\n",
    "print(contents)"
   ]
  },
  {
   "cell_type": "code",
   "execution_count": 54,
   "id": "22d7cd02",
   "metadata": {},
   "outputs": [
    {
     "name": "stdout",
     "output_type": "stream",
     "text": [
      "Number of words present in name.txt are 2\n"
     ]
    }
   ],
   "source": [
    "# Use Case 1: Write a Python program that reads a file and counts the number of words in it.\n",
    "\n",
    "# I managed to read the content of the file now to count the words we need to:\n",
    "from pathlib import Path\n",
    "path = Path('name.txt') \n",
    "\n",
    "contents = path.read_text() # Read the file successfully\n",
    "\n",
    "words = contents.split() # Splitting the words based on whenever it finds whitespace \n",
    "\n",
    "num_words = len(words) # Counting the number of words\n",
    "\n",
    "print(\"Number of words present in name.txt are\",num_words)"
   ]
  },
  {
   "cell_type": "code",
   "execution_count": 58,
   "id": "bff9d4f8",
   "metadata": {},
   "outputs": [
    {
     "name": "stdout",
     "output_type": "stream",
     "text": [
      "Number of words present in pi.txt are 8\n",
      "The length of words in the file are 43\n",
      "The average word length is 5.375\n"
     ]
    }
   ],
   "source": [
    "# Use Case 2: Write a Python program that reads a file and calculates the average word length.\n",
    "\n",
    "from pathlib import Path\n",
    "\n",
    "path = Path('pi.txt')\n",
    "\n",
    "contents = path.read_text()# Read the file successfully\n",
    "\n",
    "words = contents.split() # Splitting the words based on whenever it finds whitespace\n",
    "\n",
    "n_words = len(words) # Counting the number of words\n",
    "\n",
    "print(\"Number of words present in pi.txt are\",n_words)\n",
    "\n",
    "len_words = sum(len(word) for word in words)\n",
    "\n",
    "print(\"The length of words in the file are\",len_words)\n",
    "\n",
    "avg = len_words/n_words\n",
    "\n",
    "print(\"The average word length is\",avg)"
   ]
  },
  {
   "cell_type": "markdown",
   "id": "7d4d5a03",
   "metadata": {},
   "source": [
    "### Day 4"
   ]
  },
  {
   "cell_type": "code",
   "execution_count": 11,
   "id": "8d1b0a9b",
   "metadata": {},
   "outputs": [
    {
     "data": {
      "text/html": [
       "<div>\n",
       "<style scoped>\n",
       "    .dataframe tbody tr th:only-of-type {\n",
       "        vertical-align: middle;\n",
       "    }\n",
       "\n",
       "    .dataframe tbody tr th {\n",
       "        vertical-align: top;\n",
       "    }\n",
       "\n",
       "    .dataframe thead th {\n",
       "        text-align: right;\n",
       "    }\n",
       "</style>\n",
       "<table border=\"1\" class=\"dataframe\">\n",
       "  <thead>\n",
       "    <tr style=\"text-align: right;\">\n",
       "      <th></th>\n",
       "      <th>InvoiceNo</th>\n",
       "      <th>StockCode</th>\n",
       "      <th>Description</th>\n",
       "      <th>Quantity</th>\n",
       "      <th>InvoiceDate</th>\n",
       "      <th>UnitPrice</th>\n",
       "      <th>CustomerID</th>\n",
       "      <th>Country</th>\n",
       "    </tr>\n",
       "  </thead>\n",
       "  <tbody>\n",
       "    <tr>\n",
       "      <th>0</th>\n",
       "      <td>536365</td>\n",
       "      <td>85123A</td>\n",
       "      <td>WHITE HANGING HEART T-LIGHT HOLDER</td>\n",
       "      <td>6</td>\n",
       "      <td>2010-12-01 08:26:00</td>\n",
       "      <td>2.55</td>\n",
       "      <td>17850</td>\n",
       "      <td>United Kingdom</td>\n",
       "    </tr>\n",
       "    <tr>\n",
       "      <th>1</th>\n",
       "      <td>536365</td>\n",
       "      <td>71053</td>\n",
       "      <td>WHITE METAL LANTERN</td>\n",
       "      <td>6</td>\n",
       "      <td>2010-12-01 08:26:00</td>\n",
       "      <td>3.39</td>\n",
       "      <td>17850</td>\n",
       "      <td>United Kingdom</td>\n",
       "    </tr>\n",
       "    <tr>\n",
       "      <th>2</th>\n",
       "      <td>536365</td>\n",
       "      <td>84406B</td>\n",
       "      <td>CREAM CUPID HEARTS COAT HANGER</td>\n",
       "      <td>8</td>\n",
       "      <td>2010-12-01 08:26:00</td>\n",
       "      <td>2.75</td>\n",
       "      <td>17850</td>\n",
       "      <td>United Kingdom</td>\n",
       "    </tr>\n",
       "    <tr>\n",
       "      <th>3</th>\n",
       "      <td>536365</td>\n",
       "      <td>84029G</td>\n",
       "      <td>KNITTED UNION FLAG HOT WATER BOTTLE</td>\n",
       "      <td>6</td>\n",
       "      <td>2010-12-01 08:26:00</td>\n",
       "      <td>3.39</td>\n",
       "      <td>17850</td>\n",
       "      <td>United Kingdom</td>\n",
       "    </tr>\n",
       "    <tr>\n",
       "      <th>4</th>\n",
       "      <td>536365</td>\n",
       "      <td>84029E</td>\n",
       "      <td>RED WOOLLY HOTTIE WHITE HEART.</td>\n",
       "      <td>6</td>\n",
       "      <td>2010-12-01 08:26:00</td>\n",
       "      <td>3.39</td>\n",
       "      <td>17850</td>\n",
       "      <td>United Kingdom</td>\n",
       "    </tr>\n",
       "  </tbody>\n",
       "</table>\n",
       "</div>"
      ],
      "text/plain": [
       "  InvoiceNo StockCode                          Description  Quantity  \\\n",
       "0    536365    85123A   WHITE HANGING HEART T-LIGHT HOLDER         6   \n",
       "1    536365     71053                  WHITE METAL LANTERN         6   \n",
       "2    536365    84406B       CREAM CUPID HEARTS COAT HANGER         8   \n",
       "3    536365    84029G  KNITTED UNION FLAG HOT WATER BOTTLE         6   \n",
       "4    536365    84029E       RED WOOLLY HOTTIE WHITE HEART.         6   \n",
       "\n",
       "           InvoiceDate  UnitPrice  CustomerID         Country  \n",
       "0  2010-12-01 08:26:00       2.55       17850  United Kingdom  \n",
       "1  2010-12-01 08:26:00       3.39       17850  United Kingdom  \n",
       "2  2010-12-01 08:26:00       2.75       17850  United Kingdom  \n",
       "3  2010-12-01 08:26:00       3.39       17850  United Kingdom  \n",
       "4  2010-12-01 08:26:00       3.39       17850  United Kingdom  "
      ]
     },
     "execution_count": 11,
     "metadata": {},
     "output_type": "execute_result"
    }
   ],
   "source": [
    "# Use Case 1: Write a Python program that reads a CSV file and displays its contents.\n",
    "\n",
    "import pandas as pd \n",
    "\n",
    "df = pd.read_csv('Online Retail.csv') # Creating a data frame to read the data from the file\n",
    "\n",
    "df.head() # To print the first few lines "
   ]
  },
  {
   "cell_type": "code",
   "execution_count": 6,
   "id": "bf3fe714",
   "metadata": {},
   "outputs": [
    {
     "name": "stdout",
     "output_type": "stream",
     "text": [
      "The Average Unit price in the stock is 4.611113626083471\n"
     ]
    }
   ],
   "source": [
    "# Case 2: Write a Python program that reads a CSV file and calculates the average of a column.\n",
    "\n",
    "import pandas as pd\n",
    "\n",
    "df = pd.read_csv('Online Retail.csv') # Creating a data frame to read the data from the file\n",
    "\n",
    "unit_avg = df['UnitPrice'].mean()\n",
    "\n",
    "print(\"The Average Unit price in the stock is\",unit_avg)"
   ]
  },
  {
   "cell_type": "markdown",
   "id": "bb6ca721",
   "metadata": {},
   "source": [
    "### Day 5 "
   ]
  },
  {
   "cell_type": "code",
   "execution_count": 8,
   "id": "527e6c8a",
   "metadata": {},
   "outputs": [
    {
     "name": "stdout",
     "output_type": "stream",
     "text": [
      "                                                    quiz\n",
      "maths  {'q1': {'question': '5 + 7 = ?', 'options': ['...\n",
      "sport  {'q1': {'question': 'Which one is correct team...\n"
     ]
    }
   ],
   "source": [
    "# Use Case 1: Write a Python program that reads a JSON file and displays its contents.\n",
    "\n",
    "import pandas as pd\n",
    "\n",
    "import json\n",
    "\n",
    "result = pd.read_json('example_2.json')\n",
    "\n",
    "print(result)"
   ]
  },
  {
   "cell_type": "code",
   "execution_count": 15,
   "id": "274f2354",
   "metadata": {},
   "outputs": [
    {
     "name": "stdout",
     "output_type": "stream",
     "text": [
      "{\n",
      "    \"quiz\": {\n",
      "        \"sport\": {\n",
      "            \"q1\": {\n",
      "                \"question\": \"Which one is correct team name in NBA?\",\n",
      "                \"options\": [\n",
      "                    \"New York Bulls\",\n",
      "                    \"Los Angeles Kings\",\n",
      "                    \"Golden State Warriros\",\n",
      "                    \"Huston Rocket\"\n",
      "                ],\n",
      "                \"answer\": \"Huston Rocket\"\n",
      "            }\n",
      "        },\n",
      "        \"maths\": {\n",
      "            \"q1\": {\n",
      "                \"question\": \"5 + 7 = ?\",\n",
      "                \"options\": [\n",
      "                    \"10\",\n",
      "                    \"11\",\n",
      "                    \"12\",\n",
      "                    \"13\"\n",
      "                ],\n",
      "                \"answer\": \"12\"\n",
      "            },\n",
      "            \"q2\": {\n",
      "                \"question\": \"12 - 8 = ?\",\n",
      "                \"options\": [\n",
      "                    \"1\",\n",
      "                    \"2\",\n",
      "                    \"3\",\n",
      "                    \"4\"\n",
      "                ],\n",
      "                \"answer\": \"4\"\n",
      "            }\n",
      "        }\n",
      "    }\n",
      "}\n"
     ]
    }
   ],
   "source": [
    "# This hasn't given out the entire data and the data printed is also not legible\n",
    "\n",
    "import json\n",
    "\n",
    "# Loading the json data from a file\n",
    "\n",
    "with open(\"example_2.json\",\"r\") as json_file:\n",
    "    data = json.load(json_file)\n",
    "    \n",
    "# Print the data in legible manner\n",
    "\n",
    "print(json.dumps(data, indent=4))"
   ]
  },
  {
   "cell_type": "code",
   "execution_count": 1,
   "id": "14ed90fa",
   "metadata": {},
   "outputs": [],
   "source": [
    "# Skipping use case 2 as of now"
   ]
  },
  {
   "cell_type": "markdown",
   "id": "4837f306",
   "metadata": {},
   "source": [
    "### Day 6  "
   ]
  },
  {
   "cell_type": "code",
   "execution_count": null,
   "id": "4294a9de",
   "metadata": {},
   "outputs": [],
   "source": []
  }
 ],
 "metadata": {
  "kernelspec": {
   "display_name": "Python 3 (ipykernel)",
   "language": "python",
   "name": "python3"
  },
  "language_info": {
   "codemirror_mode": {
    "name": "ipython",
    "version": 3
   },
   "file_extension": ".py",
   "mimetype": "text/x-python",
   "name": "python",
   "nbconvert_exporter": "python",
   "pygments_lexer": "ipython3",
   "version": "3.9.13"
  }
 },
 "nbformat": 4,
 "nbformat_minor": 5
}
