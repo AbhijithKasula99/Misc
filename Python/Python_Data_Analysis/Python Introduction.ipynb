{
 "cells": [
  {
   "cell_type": "markdown",
   "id": "321e456b",
   "metadata": {},
   "source": [
    "# Python as a Calculator"
   ]
  },
  {
   "cell_type": "code",
   "execution_count": 2,
   "id": "3aaaf021",
   "metadata": {},
   "outputs": [
    {
     "data": {
      "text/plain": [
       "3.0"
      ]
     },
     "execution_count": 2,
     "metadata": {},
     "output_type": "execute_result"
    }
   ],
   "source": [
    "# Division\n",
    "6/2"
   ]
  },
  {
   "cell_type": "code",
   "execution_count": 3,
   "id": "9a50b080",
   "metadata": {},
   "outputs": [
    {
     "data": {
      "text/plain": [
       "8"
      ]
     },
     "execution_count": 3,
     "metadata": {},
     "output_type": "execute_result"
    }
   ],
   "source": [
    "# Addition\n",
    "6 + 2"
   ]
  },
  {
   "cell_type": "code",
   "execution_count": 4,
   "id": "0bf4ad1a",
   "metadata": {},
   "outputs": [
    {
     "data": {
      "text/plain": [
       "27"
      ]
     },
     "execution_count": 4,
     "metadata": {},
     "output_type": "execute_result"
    }
   ],
   "source": [
    "# Square\n",
    "3 ** 3"
   ]
  },
  {
   "cell_type": "code",
   "execution_count": 5,
   "id": "e6485ad9",
   "metadata": {},
   "outputs": [
    {
     "data": {
      "text/plain": [
       "12"
      ]
     },
     "execution_count": 5,
     "metadata": {},
     "output_type": "execute_result"
    }
   ],
   "source": [
    "# Multiplication\n",
    "3*4"
   ]
  },
  {
   "cell_type": "markdown",
   "id": "f208e58d",
   "metadata": {},
   "source": [
    "# Variables in Python\n",
    "\n",
    "## - Specific, case sensitive names\n",
    "\n",
    "## - Call values using variable names\n",
    "\n",
    "## - Make code reproducible \n",
    "\n",
    "## - Makes code understandable"
   ]
  },
  {
   "cell_type": "code",
   "execution_count": 8,
   "id": "448bc3bd",
   "metadata": {},
   "outputs": [
    {
     "name": "stdout",
     "output_type": "stream",
     "text": [
      "Abhijith\n",
      "Bhargav\n"
     ]
    }
   ],
   "source": [
    "# = is used for assignment not for equality check\n",
    "Name = 'Abhijith'\n",
    "print(Name)\n",
    "name = 'Bhargav'\n",
    "print(name)"
   ]
  },
  {
   "cell_type": "code",
   "execution_count": 9,
   "id": "2f5154a3",
   "metadata": {},
   "outputs": [],
   "source": [
    "# Height and Weight\n",
    "height = 1.75\n",
    "weight = 85"
   ]
  },
  {
   "cell_type": "code",
   "execution_count": 11,
   "id": "3e6d804e",
   "metadata": {},
   "outputs": [
    {
     "data": {
      "text/plain": [
       "27.755102040816325"
      ]
     },
     "execution_count": 11,
     "metadata": {},
     "output_type": "execute_result"
    }
   ],
   "source": [
    "# BMI \n",
    "BMI = weight/(height**2)\n",
    "BMI"
   ]
  },
  {
   "cell_type": "markdown",
   "id": "f6803cf0",
   "metadata": {},
   "source": [
    "# Data Types in Python\n",
    "\n",
    "## - Integer\n",
    "\n",
    "## - Float\n",
    "\n",
    "## - String\n",
    "\n",
    "## - Boolean"
   ]
  },
  {
   "cell_type": "code",
   "execution_count": 12,
   "id": "659d467b",
   "metadata": {},
   "outputs": [
    {
     "data": {
      "text/plain": [
       "int"
      ]
     },
     "execution_count": 12,
     "metadata": {},
     "output_type": "execute_result"
    }
   ],
   "source": [
    "# Integer\n",
    "type(weight)"
   ]
  },
  {
   "cell_type": "code",
   "execution_count": 16,
   "id": "38dcd2a0",
   "metadata": {},
   "outputs": [
    {
     "data": {
      "text/plain": [
       "float"
      ]
     },
     "execution_count": 16,
     "metadata": {},
     "output_type": "execute_result"
    }
   ],
   "source": [
    "# FLoat\n",
    "type(BMI)"
   ]
  },
  {
   "cell_type": "code",
   "execution_count": 17,
   "id": "783b5f80",
   "metadata": {},
   "outputs": [
    {
     "data": {
      "text/plain": [
       "str"
      ]
     },
     "execution_count": 17,
     "metadata": {},
     "output_type": "execute_result"
    }
   ],
   "source": [
    "# String\n",
    "type(name)"
   ]
  },
  {
   "cell_type": "code",
   "execution_count": 18,
   "id": "d01839f5",
   "metadata": {},
   "outputs": [
    {
     "data": {
      "text/plain": [
       "bool"
      ]
     },
     "execution_count": 18,
     "metadata": {},
     "output_type": "execute_result"
    }
   ],
   "source": [
    "# Boolean\n",
    "a = True\n",
    "type(a)"
   ]
  },
  {
   "cell_type": "markdown",
   "id": "f1cab796",
   "metadata": {},
   "source": [
    "# Type Conversion"
   ]
  },
  {
   "cell_type": "code",
   "execution_count": 19,
   "id": "49fad480",
   "metadata": {},
   "outputs": [
    {
     "data": {
      "text/plain": [
       "27"
      ]
     },
     "execution_count": 19,
     "metadata": {},
     "output_type": "execute_result"
    }
   ],
   "source": [
    "int(BMI)"
   ]
  },
  {
   "cell_type": "code",
   "execution_count": 20,
   "id": "d8a339f3",
   "metadata": {},
   "outputs": [
    {
     "data": {
      "text/plain": [
       "'27.755102040816325'"
      ]
     },
     "execution_count": 20,
     "metadata": {},
     "output_type": "execute_result"
    }
   ],
   "source": [
    "str(BMI)"
   ]
  },
  {
   "cell_type": "code",
   "execution_count": 21,
   "id": "e40e1815",
   "metadata": {},
   "outputs": [
    {
     "data": {
      "text/plain": [
       "27.755102040816325"
      ]
     },
     "execution_count": 21,
     "metadata": {},
     "output_type": "execute_result"
    }
   ],
   "source": [
    "float(BMI)"
   ]
  },
  {
   "cell_type": "code",
   "execution_count": 22,
   "id": "870458aa",
   "metadata": {},
   "outputs": [
    {
     "data": {
      "text/plain": [
       "float"
      ]
     },
     "execution_count": 22,
     "metadata": {},
     "output_type": "execute_result"
    }
   ],
   "source": [
    "type(BMI)"
   ]
  },
  {
   "cell_type": "markdown",
   "id": "60d222b6",
   "metadata": {},
   "source": [
    "--- "
   ]
  },
  {
   "cell_type": "markdown",
   "id": "7c6c738b",
   "metadata": {},
   "source": [
    "# Functions\n",
    "\n",
    "## - These are reusable piece of codes created for specific repititive tasks"
   ]
  },
  {
   "cell_type": "code",
   "execution_count": 23,
   "id": "99b174a3",
   "metadata": {},
   "outputs": [
    {
     "data": {
      "text/plain": [
       "float"
      ]
     },
     "execution_count": 23,
     "metadata": {},
     "output_type": "execute_result"
    }
   ],
   "source": [
    "# type() is used to print the type of the variable\n",
    "type(BMI)"
   ]
  },
  {
   "cell_type": "code",
   "execution_count": 25,
   "id": "df81861d",
   "metadata": {},
   "outputs": [
    {
     "data": {
      "text/plain": [
       "27.76"
      ]
     },
     "execution_count": 25,
     "metadata": {},
     "output_type": "execute_result"
    }
   ],
   "source": [
    "# round() is used to round off the decimals to how many digits we want\n",
    "round(BMI,2)"
   ]
  },
  {
   "cell_type": "code",
   "execution_count": 26,
   "id": "578db05c",
   "metadata": {},
   "outputs": [
    {
     "name": "stdout",
     "output_type": "stream",
     "text": [
      "Help on built-in function round in module builtins:\n",
      "\n",
      "round(number, ndigits=None)\n",
      "    Round a number to a given precision in decimal digits.\n",
      "    \n",
      "    The return value is an integer if ndigits is omitted or None.  Otherwise\n",
      "    the return value has the same type as the number.  ndigits may be negative.\n",
      "\n"
     ]
    }
   ],
   "source": [
    "help(round)"
   ]
  },
  {
   "cell_type": "code",
   "execution_count": 30,
   "id": "c38758b2",
   "metadata": {},
   "outputs": [],
   "source": [
    "# We can do this too to find out the value\n",
    "round?"
   ]
  },
  {
   "cell_type": "code",
   "execution_count": null,
   "id": "72ff614e",
   "metadata": {},
   "outputs": [],
   "source": []
  }
 ],
 "metadata": {
  "kernelspec": {
   "display_name": "Python 3 (ipykernel)",
   "language": "python",
   "name": "python3"
  },
  "language_info": {
   "codemirror_mode": {
    "name": "ipython",
    "version": 3
   },
   "file_extension": ".py",
   "mimetype": "text/x-python",
   "name": "python",
   "nbconvert_exporter": "python",
   "pygments_lexer": "ipython3",
   "version": "3.9.13"
  }
 },
 "nbformat": 4,
 "nbformat_minor": 5
}
