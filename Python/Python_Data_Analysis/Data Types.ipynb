{
 "cells": [
  {
   "cell_type": "markdown",
   "id": "3be6d1c7",
   "metadata": {},
   "source": [
    "# Data Types in Python\n",
    "\n",
    "## Lists in Python\n",
    "\n",
    "### - Collections of items which could be used for different data types\n",
    "\n",
    "### - Enclosed in square brackets\n",
    "\n",
    "### - Seperated by commas\n",
    "\n",
    "### - Ordered and changeable"
   ]
  },
  {
   "cell_type": "code",
   "execution_count": 1,
   "id": "46caa04b",
   "metadata": {},
   "outputs": [
    {
     "data": {
      "text/plain": [
       "list"
      ]
     },
     "execution_count": 1,
     "metadata": {},
     "output_type": "execute_result"
    }
   ],
   "source": [
    "# List \n",
    "num_list = [1,2,3,4]\n",
    "num_list\n",
    "type(num_list)"
   ]
  },
  {
   "cell_type": "code",
   "execution_count": 5,
   "id": "fff8d4eb",
   "metadata": {},
   "outputs": [
    {
     "data": {
      "text/plain": [
       "[1, 2.5, 'Abhi', 'Engineering', 7.45]"
      ]
     },
     "execution_count": 5,
     "metadata": {},
     "output_type": "execute_result"
    }
   ],
   "source": [
    "# mix list\n",
    "mix_list = [1, 2.5, 'Abhi', 'Engineering', 7.45]\n",
    "mix_list"
   ]
  },
  {
   "cell_type": "code",
   "execution_count": 8,
   "id": "bf222e14",
   "metadata": {},
   "outputs": [
    {
     "data": {
      "text/plain": [
       "[['hall', 11.25],\n",
       " ['kitchen', 18.0],\n",
       " ['living room', 20.0],\n",
       " ['bedroom', 10.75],\n",
       " ['bathroom', 9.5]]"
      ]
     },
     "execution_count": 8,
     "metadata": {},
     "output_type": "execute_result"
    }
   ],
   "source": [
    "# List of list\n",
    "hall = 11.25\n",
    "kit = 18.0\n",
    "liv = 20.0\n",
    "bed = 10.75\n",
    "bath = 9.5\n",
    "\n",
    "house = [['hall',hall],\n",
    "         ['kitchen',kit],\n",
    "         ['living room', liv],\n",
    "         ['bedroom',bed],\n",
    "         ['bathroom',bath]]\n",
    "house"
   ]
  },
  {
   "cell_type": "markdown",
   "id": "1f28cf9a",
   "metadata": {},
   "source": [
    "### Accessing elements of a list "
   ]
  },
  {
   "cell_type": "code",
   "execution_count": 11,
   "id": "260e789d",
   "metadata": {},
   "outputs": [
    {
     "name": "stdout",
     "output_type": "stream",
     "text": [
      "1\n",
      "[1, 81, 'Abhijith']\n",
      "2\n"
     ]
    }
   ],
   "source": [
    "# Access elements of a list\n",
    "mix = [1,81,'Abhijith',7.45,True]\n",
    "\n",
    "# Accessing 1st element of a list\n",
    "print(mix[0])\n",
    "\n",
    "# Printing 1st 3 elements of a list\n",
    "print(mix[:3])\n",
    "\n",
    "# print the index of an element\n",
    "print(mix.index('Abhijith'))"
   ]
  },
  {
   "cell_type": "markdown",
   "id": "c9f62f1f",
   "metadata": {},
   "source": [
    "### Modifying the elements of a list "
   ]
  },
  {
   "cell_type": "code",
   "execution_count": 13,
   "id": "4c81e47b",
   "metadata": {},
   "outputs": [
    {
     "name": "stdout",
     "output_type": "stream",
     "text": [
      "[1, 81, 'Abhijith Kasula', 7.45, True]\n"
     ]
    }
   ],
   "source": [
    "# Change the name\n",
    "mix[2] = 'Abhijith Kasula'\n",
    "print(mix)"
   ]
  },
  {
   "cell_type": "markdown",
   "id": "16d8da94",
   "metadata": {},
   "source": [
    "### Adding, removing and sorting elements of a list "
   ]
  },
  {
   "cell_type": "code",
   "execution_count": 14,
   "id": "72d10ded",
   "metadata": {},
   "outputs": [
    {
     "name": "stdout",
     "output_type": "stream",
     "text": [
      "['Python', 'Java', 'C#', 'C++', 'JS']\n"
     ]
    }
   ],
   "source": [
    "sub = ['Python','Java','C++','JS']\n",
    "# Inserting an element at index 2\n",
    "sub.insert(2,'C#')\n",
    "print(sub)"
   ]
  },
  {
   "cell_type": "code",
   "execution_count": 15,
   "id": "502fe105",
   "metadata": {},
   "outputs": [
    {
     "name": "stdout",
     "output_type": "stream",
     "text": [
      "['Python', 'C#', 'C++', 'JS']\n"
     ]
    }
   ],
   "source": [
    "# Remove Java\n",
    "sub.remove('Java')\n",
    "print(sub)"
   ]
  },
  {
   "cell_type": "code",
   "execution_count": 16,
   "id": "b3c5e4a2",
   "metadata": {},
   "outputs": [
    {
     "name": "stdout",
     "output_type": "stream",
     "text": [
      "['C#', 'C++', 'JS', 'Python']\n"
     ]
    }
   ],
   "source": [
    "# Sorting\n",
    "sub.sort() # If you hit shift + tab we can see what all that function can do\n",
    "print(sub)"
   ]
  },
  {
   "cell_type": "code",
   "execution_count": 18,
   "id": "6298cbe0",
   "metadata": {},
   "outputs": [
    {
     "name": "stdout",
     "output_type": "stream",
     "text": [
      "['Python', 'JS', 'C++', 'C#']\n"
     ]
    }
   ],
   "source": [
    "# Reverse sorting\n",
    "sub.sort(reverse = True)\n",
    "print(sub)"
   ]
  },
  {
   "cell_type": "markdown",
   "id": "b284ffb6",
   "metadata": {},
   "source": [
    "### Operations on a list "
   ]
  },
  {
   "cell_type": "code",
   "execution_count": 29,
   "id": "1785b4fa",
   "metadata": {},
   "outputs": [],
   "source": [
    "l = [1,2,3,4,5]"
   ]
  },
  {
   "cell_type": "code",
   "execution_count": 30,
   "id": "af85a185",
   "metadata": {},
   "outputs": [
    {
     "data": {
      "text/plain": [
       "5"
      ]
     },
     "execution_count": 30,
     "metadata": {},
     "output_type": "execute_result"
    }
   ],
   "source": [
    "# Length of the list\n",
    "len(l)"
   ]
  },
  {
   "cell_type": "code",
   "execution_count": 31,
   "id": "b1d1b8db",
   "metadata": {},
   "outputs": [
    {
     "data": {
      "text/plain": [
       "5"
      ]
     },
     "execution_count": 31,
     "metadata": {},
     "output_type": "execute_result"
    }
   ],
   "source": [
    "# Max value in a list\n",
    "# Applicable only for same data types\n",
    "max(l)\n",
    "\n",
    "# For string it will give out the string that has maximum length"
   ]
  },
  {
   "cell_type": "code",
   "execution_count": 32,
   "id": "746d8591",
   "metadata": {},
   "outputs": [
    {
     "data": {
      "text/plain": [
       "[1, 2, 3, 4, 5, 6]"
      ]
     },
     "execution_count": 32,
     "metadata": {},
     "output_type": "execute_result"
    }
   ],
   "source": [
    "# append to add the elements in a list\n",
    "l.append(6)\n",
    "l"
   ]
  },
  {
   "cell_type": "code",
   "execution_count": 33,
   "id": "9b4b074a",
   "metadata": {},
   "outputs": [
    {
     "data": {
      "text/plain": [
       "[1, 2, 3, 4, 5]"
      ]
     },
     "execution_count": 33,
     "metadata": {},
     "output_type": "execute_result"
    }
   ],
   "source": [
    "# Pop the last element from the list\n",
    "l.pop()\n",
    "l"
   ]
  },
  {
   "cell_type": "code",
   "execution_count": 35,
   "id": "e02c93da",
   "metadata": {},
   "outputs": [
    {
     "data": {
      "text/plain": [
       "[1, 2, 3, 4, 5]"
      ]
     },
     "execution_count": 35,
     "metadata": {},
     "output_type": "execute_result"
    }
   ],
   "source": [
    "# Reverse the list \n",
    "l.reverse()\n",
    "l"
   ]
  },
  {
   "cell_type": "markdown",
   "id": "f1c33067",
   "metadata": {},
   "source": [
    "### Some more operations"
   ]
  },
  {
   "cell_type": "code",
   "execution_count": 36,
   "id": "0bbc5b76",
   "metadata": {},
   "outputs": [
    {
     "data": {
      "text/plain": [
       "[1, 2, 3, 4, 5, 6, 7, 8, 9, 10]"
      ]
     },
     "execution_count": 36,
     "metadata": {},
     "output_type": "execute_result"
    }
   ],
   "source": [
    "# Concatenate\n",
    "m = [6,7,8,9,10]\n",
    "l + m"
   ]
  },
  {
   "cell_type": "code",
   "execution_count": 38,
   "id": "730c4252",
   "metadata": {},
   "outputs": [
    {
     "name": "stdout",
     "output_type": "stream",
     "text": [
      "[6, 7, 8, 9, 10, 6, 7, 8, 9, 10]\n"
     ]
    }
   ],
   "source": [
    "# Repeating the list multiple times \n",
    "new_m = m * 2\n",
    "print(new_m)"
   ]
  },
  {
   "cell_type": "code",
   "execution_count": 39,
   "id": "0fbcef59",
   "metadata": {},
   "outputs": [
    {
     "name": "stdout",
     "output_type": "stream",
     "text": [
      "True\n"
     ]
    }
   ],
   "source": [
    "# Checking if the number is present in a list or not\n",
    "print(6 in new_m)"
   ]
  },
  {
   "cell_type": "code",
   "execution_count": 40,
   "id": "40fcd4df",
   "metadata": {},
   "outputs": [
    {
     "name": "stdout",
     "output_type": "stream",
     "text": [
      "True\n"
     ]
    }
   ],
   "source": [
    "# Checking if the number is not present in the list or not\n",
    "print(4 not in new_m)"
   ]
  },
  {
   "cell_type": "markdown",
   "id": "72fae88f",
   "metadata": {},
   "source": [
    "---"
   ]
  },
  {
   "cell_type": "markdown",
   "id": "9ab04c90",
   "metadata": {},
   "source": [
    "# Dictionary \n",
    "\n",
    "### - This is used to store data in key:value pairs.\n",
    "\n",
    "### - This is a collection that is ordered, changable and does not allow duplicates"
   ]
  },
  {
   "cell_type": "code",
   "execution_count": 2,
   "id": "a1051a6f",
   "metadata": {},
   "outputs": [],
   "source": [
    "# Finding the score in python \n",
    "marks = [99,80,79,94]\n",
    "sub_list = ['Ram','Bam','Cam','Sam']"
   ]
  },
  {
   "cell_type": "code",
   "execution_count": 4,
   "id": "a1a0fd0d",
   "metadata": {},
   "outputs": [
    {
     "data": {
      "text/plain": [
       "0"
      ]
     },
     "execution_count": 4,
     "metadata": {},
     "output_type": "execute_result"
    }
   ],
   "source": [
    "# Fetching the index of python\n",
    "index = sub_list.index('Ram')\n",
    "index"
   ]
  },
  {
   "cell_type": "code",
   "execution_count": 5,
   "id": "c10a167e",
   "metadata": {},
   "outputs": [
    {
     "data": {
      "text/plain": [
       "99"
      ]
     },
     "execution_count": 5,
     "metadata": {},
     "output_type": "execute_result"
    }
   ],
   "source": [
    "# Fetch Marks\n",
    "marks[index]"
   ]
  },
  {
   "cell_type": "code",
   "execution_count": 6,
   "id": "f6881260",
   "metadata": {},
   "outputs": [
    {
     "data": {
      "text/plain": [
       "{'Python': 99, 'Perl': 80, 'Java': 79, 'C++': 94}"
      ]
     },
     "execution_count": 6,
     "metadata": {},
     "output_type": "execute_result"
    }
   ],
   "source": [
    "# Dictionaries are always written with curly brackets and they have keys and values\n",
    "sub_dict = {'Python': 99, \"Perl\": 80, 'Java':79, 'C++':94}\n",
    "sub_dict"
   ]
  },
  {
   "cell_type": "code",
   "execution_count": 8,
   "id": "1f7442e1",
   "metadata": {},
   "outputs": [
    {
     "name": "stdout",
     "output_type": "stream",
     "text": [
      "99\n"
     ]
    },
    {
     "data": {
      "text/plain": [
       "dict_keys(['Python', 'Perl', 'Java', 'C++'])"
      ]
     },
     "execution_count": 8,
     "metadata": {},
     "output_type": "execute_result"
    }
   ],
   "source": [
    "# Check out the keys in sub_marks\n",
    "print(sub_dict['Python']) # This prints the value of a key\n",
    "sub_dict.keys() # .keys helps us print the keys of a dictionary"
   ]
  },
  {
   "cell_type": "code",
   "execution_count": 10,
   "id": "a9c311b5",
   "metadata": {},
   "outputs": [],
   "source": [
    "# Keys must always be unique and no two keys must have the same value"
   ]
  },
  {
   "cell_type": "markdown",
   "id": "bc7dc3c9",
   "metadata": {},
   "source": [
    "### Operations on Dictionary "
   ]
  },
  {
   "cell_type": "code",
   "execution_count": 12,
   "id": "acd7e285",
   "metadata": {},
   "outputs": [
    {
     "data": {
      "text/plain": [
       "{'Python': 99, 'Perl': 80, 'Java': 79, 'C++': 94, 'Algorithms': 97}"
      ]
     },
     "execution_count": 12,
     "metadata": {},
     "output_type": "execute_result"
    }
   ],
   "source": [
    "# Adding one subject to the dictionary\n",
    "sub_dict['Algorithms'] = 97 \n",
    "sub_dict"
   ]
  },
  {
   "cell_type": "markdown",
   "id": "bbed1a05",
   "metadata": {},
   "source": [
    "### Delete a Dictionary"
   ]
  },
  {
   "cell_type": "code",
   "execution_count": 13,
   "id": "8b595e6e",
   "metadata": {},
   "outputs": [
    {
     "data": {
      "text/plain": [
       "{'Python': 99, 'Perl': 80, 'C++': 94, 'Algorithms': 97}"
      ]
     },
     "execution_count": 13,
     "metadata": {},
     "output_type": "execute_result"
    }
   ],
   "source": [
    "del(sub_dict['Java'])\n",
    "sub_dict"
   ]
  },
  {
   "cell_type": "markdown",
   "id": "5217e1ce",
   "metadata": {},
   "source": [
    "### Check for a key in dictionary "
   ]
  },
  {
   "cell_type": "code",
   "execution_count": 14,
   "id": "9dacae71",
   "metadata": {},
   "outputs": [
    {
     "data": {
      "text/plain": [
       "False"
      ]
     },
     "execution_count": 14,
     "metadata": {},
     "output_type": "execute_result"
    }
   ],
   "source": [
    "'Java' in sub_dict"
   ]
  },
  {
   "cell_type": "code",
   "execution_count": 15,
   "id": "5f1e1f26",
   "metadata": {},
   "outputs": [
    {
     "data": {
      "text/plain": [
       "True"
      ]
     },
     "execution_count": 15,
     "metadata": {},
     "output_type": "execute_result"
    }
   ],
   "source": [
    "'Python' in sub_dict"
   ]
  },
  {
   "cell_type": "markdown",
   "id": "e82884a7",
   "metadata": {},
   "source": [
    "### Dictionary of dictionaries "
   ]
  },
  {
   "cell_type": "code",
   "execution_count": 17,
   "id": "bc1e9c1c",
   "metadata": {},
   "outputs": [],
   "source": [
    "# dictionary of dictionaries\n",
    "europe = {'spain': { 'capital':'madrid', 'population':46.88}, \n",
    "         'germany': {'capital':'paris', 'population':66.03},\n",
    "         'france': {'capital':'berlin', 'population':80.62}}"
   ]
  },
  {
   "cell_type": "code",
   "execution_count": 18,
   "id": "126c6b72",
   "metadata": {},
   "outputs": [
    {
     "data": {
      "text/plain": [
       "{'capital': 'madrid', 'population': 46.88}"
      ]
     },
     "execution_count": 18,
     "metadata": {},
     "output_type": "execute_result"
    }
   ],
   "source": [
    "# get capital and population of spain\n",
    "europe['spain']"
   ]
  },
  {
   "cell_type": "code",
   "execution_count": 19,
   "id": "7562676c",
   "metadata": {},
   "outputs": [
    {
     "data": {
      "text/plain": [
       "46.88"
      ]
     },
     "execution_count": 19,
     "metadata": {},
     "output_type": "execute_result"
    }
   ],
   "source": [
    "# get population of spain\n",
    "europe['spain']['population']"
   ]
  },
  {
   "cell_type": "code",
   "execution_count": 20,
   "id": "92c88105",
   "metadata": {},
   "outputs": [],
   "source": [
    "# Add capital and population of Italy\n",
    "data = {'capital':'rome',\n",
    "       'population':59}\n",
    "\n",
    "europe['Italy'] = data"
   ]
  },
  {
   "cell_type": "code",
   "execution_count": 21,
   "id": "f2bbafe4",
   "metadata": {},
   "outputs": [
    {
     "data": {
      "text/plain": [
       "{'spain': {'capital': 'madrid', 'population': 46.88},\n",
       " 'germany': {'capital': 'paris', 'population': 66.03},\n",
       " 'france': {'capital': 'berlin', 'population': 80.62},\n",
       " 'Italy': {'capital': 'rome', 'population': 59}}"
      ]
     },
     "execution_count": 21,
     "metadata": {},
     "output_type": "execute_result"
    }
   ],
   "source": [
    "europe"
   ]
  },
  {
   "cell_type": "code",
   "execution_count": null,
   "id": "fe885f5e",
   "metadata": {},
   "outputs": [],
   "source": []
  }
 ],
 "metadata": {
  "kernelspec": {
   "display_name": "Python 3 (ipykernel)",
   "language": "python",
   "name": "python3"
  },
  "language_info": {
   "codemirror_mode": {
    "name": "ipython",
    "version": 3
   },
   "file_extension": ".py",
   "mimetype": "text/x-python",
   "name": "python",
   "nbconvert_exporter": "python",
   "pygments_lexer": "ipython3",
   "version": "3.9.13"
  }
 },
 "nbformat": 4,
 "nbformat_minor": 5
}
